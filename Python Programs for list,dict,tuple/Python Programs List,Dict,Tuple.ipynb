{
 "cells": [
  {
   "cell_type": "markdown",
   "id": "d48dae92",
   "metadata": {},
   "source": [
    "## 1.first character in string"
   ]
  },
  {
   "cell_type": "code",
   "execution_count": 1,
   "id": "14c1a4e1",
   "metadata": {},
   "outputs": [
    {
     "data": {
      "text/plain": [
       "'w'"
      ]
     },
     "execution_count": 1,
     "metadata": {},
     "output_type": "execute_result"
    }
   ],
   "source": [
    "str1=\"welcome everyone\"\n",
    "str1[0]"
   ]
  },
  {
   "cell_type": "markdown",
   "id": "2b95aa40",
   "metadata": {},
   "source": [
    "## 2.last character in string using len function"
   ]
  },
  {
   "cell_type": "code",
   "execution_count": 2,
   "id": "ae843473",
   "metadata": {},
   "outputs": [
    {
     "data": {
      "text/plain": [
       "'e'"
      ]
     },
     "execution_count": 2,
     "metadata": {},
     "output_type": "execute_result"
    }
   ],
   "source": [
    "str1=\"welcome everyone\"\n",
    "length=len(str1)\n",
    "str1[length-1]"
   ]
  },
  {
   "cell_type": "markdown",
   "id": "e635ba57",
   "metadata": {},
   "source": [
    "## 3.last character in string"
   ]
  },
  {
   "cell_type": "code",
   "execution_count": 3,
   "id": "b1919f8c",
   "metadata": {},
   "outputs": [
    {
     "data": {
      "text/plain": [
       "'e'"
      ]
     },
     "execution_count": 3,
     "metadata": {},
     "output_type": "execute_result"
    }
   ],
   "source": [
    "str1=\"welcome everyone\"\n",
    "str1[-1]"
   ]
  },
  {
   "cell_type": "markdown",
   "id": "943dbb90",
   "metadata": {},
   "source": [
    "##  4.fetch the 7th element of the string"
   ]
  },
  {
   "cell_type": "code",
   "execution_count": 4,
   "id": "434379aa",
   "metadata": {},
   "outputs": [
    {
     "data": {
      "text/plain": [
       "'i'"
      ]
     },
     "execution_count": 4,
     "metadata": {},
     "output_type": "execute_result"
    }
   ],
   "source": [
    "str1=\"Python is a programming language\"\n",
    "str1[7]"
   ]
  },
  {
   "cell_type": "markdown",
   "id": "5a7530ba",
   "metadata": {},
   "source": [
    "##  5.fetch all characters from 0 to 5 index location excluding the character at loc 5."
   ]
  },
  {
   "cell_type": "code",
   "execution_count": 5,
   "id": "cf35f0c4",
   "metadata": {},
   "outputs": [
    {
     "data": {
      "text/plain": [
       "'Pytho'"
      ]
     },
     "execution_count": 5,
     "metadata": {},
     "output_type": "execute_result"
    }
   ],
   "source": [
    "str1=\"Python is a programming language\"\n",
    "str1[0:5]"
   ]
  },
  {
   "cell_type": "markdown",
   "id": "921a3110",
   "metadata": {},
   "source": [
    "## 6.retrieve all characters between 6 -12 index ecluding loc 12."
   ]
  },
  {
   "cell_type": "code",
   "execution_count": 6,
   "id": "0113b27a",
   "metadata": {},
   "outputs": [
    {
     "data": {
      "text/plain": [
       "'e ever'"
      ]
     },
     "execution_count": 6,
     "metadata": {},
     "output_type": "execute_result"
    }
   ],
   "source": [
    "str1=\"Welcome everyone\"\n",
    "str1[6:12]"
   ]
  },
  {
   "cell_type": "markdown",
   "id": "5046c9d6",
   "metadata": {},
   "source": [
    "## 7.retrieve last four characters of the string"
   ]
  },
  {
   "cell_type": "code",
   "execution_count": 7,
   "id": "e41a5706",
   "metadata": {},
   "outputs": [
    {
     "data": {
      "text/plain": [
       "'thon'"
      ]
     },
     "execution_count": 7,
     "metadata": {},
     "output_type": "execute_result"
    }
   ],
   "source": [
    "str1=\"Welcome to the world of Python\"\n",
    "str1[-4:len(str1)]"
   ]
  },
  {
   "cell_type": "markdown",
   "id": "812e6df7",
   "metadata": {},
   "source": [
    "## 8.retrieve last six characters of the string"
   ]
  },
  {
   "cell_type": "code",
   "execution_count": 8,
   "id": "787bd1b2",
   "metadata": {},
   "outputs": [
    {
     "data": {
      "text/plain": [
       "'Python'"
      ]
     },
     "execution_count": 8,
     "metadata": {},
     "output_type": "execute_result"
    }
   ],
   "source": [
    "str1=\"Welcome to the world of Python\"\n",
    "str1[-6:len(str1)]"
   ]
  },
  {
   "cell_type": "markdown",
   "id": "1fab21c3",
   "metadata": {},
   "source": [
    "## 9.retrieve first four characters of the string"
   ]
  },
  {
   "cell_type": "code",
   "execution_count": 9,
   "id": "26ec3c75",
   "metadata": {},
   "outputs": [
    {
     "data": {
      "text/plain": [
       "'Welc'"
      ]
     },
     "execution_count": 9,
     "metadata": {},
     "output_type": "execute_result"
    }
   ],
   "source": [
    "str1=\"Welcome to the world of Python\"\n",
    "str1[0:4]"
   ]
  },
  {
   "cell_type": "markdown",
   "id": "bf07c682",
   "metadata": {},
   "source": [
    "## Write a program to reverse the string."
   ]
  },
  {
   "cell_type": "code",
   "execution_count": 10,
   "id": "f9f10127",
   "metadata": {},
   "outputs": [
    {
     "name": "stdout",
     "output_type": "stream",
     "text": [
      "enoyrevE emocleW\n"
     ]
    }
   ],
   "source": [
    "str1=\"Welcome Everyone\"\n",
    "str2=\"\"\n",
    "l=-1\n",
    "while l>=-len(str1):\n",
    "    str2=str2+str1[l]\n",
    "    l-=1\n",
    "print(str2)"
   ]
  },
  {
   "cell_type": "markdown",
   "id": "ecd8b802",
   "metadata": {},
   "source": [
    "## Write a program to check whether a given string is palindrome or not."
   ]
  },
  {
   "cell_type": "code",
   "execution_count": 11,
   "id": "e60336ab",
   "metadata": {},
   "outputs": [
    {
     "name": "stdout",
     "output_type": "stream",
     "text": [
      "madam\n",
      "String is a palindrome\n"
     ]
    }
   ],
   "source": [
    "str1=input()\n",
    "str2=\"\"\n",
    "l=-1\n",
    "while l>=-len(str1):\n",
    "    str2=str2+str1[l]\n",
    "    l-=1\n",
    "if str2==str1:\n",
    " print(\"String is a palindrome\")\n",
    "else:\n",
    " print(\"string is not a palindrome\")  "
   ]
  },
  {
   "cell_type": "markdown",
   "id": "56dce807",
   "metadata": {},
   "source": [
    "## Write a program to find the length of string without using len function."
   ]
  },
  {
   "cell_type": "code",
   "execution_count": 12,
   "id": "54e19844",
   "metadata": {},
   "outputs": [
    {
     "name": "stdout",
     "output_type": "stream",
     "text": [
      "16\n"
     ]
    }
   ],
   "source": [
    "str1=\"Welcome Everyone\"\n",
    "l=0\n",
    "while str1[l:]:\n",
    "    l+=1\n",
    "print(l)"
   ]
  },
  {
   "cell_type": "markdown",
   "id": "153cbde4",
   "metadata": {},
   "source": [
    "\"\"\"1.Calculate square  of all numbers between 0-10 using list comprehensions\n",
    "   2.multiply whole list by 10\n",
    "   3.extract numbers from a string using list comprehension\n",
    "   4.Write the program to remove the duplicate element of the list.\n",
    "   5.Write a program to find the sum of the element in the list.\n",
    "   6.Write the program to find the lists consist of at least one common element.\"\"\""
   ]
  },
  {
   "cell_type": "markdown",
   "id": "4a3a93e7",
   "metadata": {},
   "source": [
    "## 1.Calculate square of all numbers between 0-10 using list comprehensions\n"
   ]
  },
  {
   "cell_type": "code",
   "execution_count": 13,
   "id": "34ff1e22",
   "metadata": {},
   "outputs": [
    {
     "name": "stdout",
     "output_type": "stream",
     "text": [
      "[0, 1, 4, 9, 16, 25, 36, 49, 64, 81]\n"
     ]
    }
   ],
   "source": [
    "my_arr = [i**2 for i in range(10)]\n",
    "print(my_arr)"
   ]
  },
  {
   "cell_type": "markdown",
   "id": "dc0001ea",
   "metadata": {},
   "source": [
    "## 2.multiply whole list by 10"
   ]
  },
  {
   "cell_type": "code",
   "execution_count": 14,
   "id": "1f1cc806",
   "metadata": {},
   "outputs": [
    {
     "name": "stdout",
     "output_type": "stream",
     "text": [
      "[20, 40, 50, 70, 80]\n"
     ]
    }
   ],
   "source": [
    "my_list=[2,4,5,7,8]\n",
    "res=[i*10 for i in my_list]\n",
    "print(res)"
   ]
  },
  {
   "cell_type": "markdown",
   "id": "a923229c",
   "metadata": {},
   "source": [
    "## 3.extract numbers from a string using list comprehension"
   ]
  },
  {
   "cell_type": "code",
   "execution_count": 15,
   "id": "0949a80a",
   "metadata": {},
   "outputs": [
    {
     "name": "stdout",
     "output_type": "stream",
     "text": [
      "['I', ' ', 'a', 'm', ' ', '1', '2', '3', ' ', 'a', 'n', 'd', ' ', 'd', 'o', 'i', 'n', 'g', ' ', '5', '6', '7']\n"
     ]
    }
   ],
   "source": [
    "str1=\"I am 123 and doing 567\"\n",
    "arr_list=[i for i in str1]\n",
    "print(arr_list)"
   ]
  },
  {
   "cell_type": "markdown",
   "id": "5acab93d",
   "metadata": {},
   "source": [
    "## 4.Write the program to remove the duplicate element of the list."
   ]
  },
  {
   "cell_type": "code",
   "execution_count": 16,
   "id": "66a702a2",
   "metadata": {},
   "outputs": [
    {
     "name": "stdout",
     "output_type": "stream",
     "text": [
      "[89, 56, 43, 66]\n"
     ]
    }
   ],
   "source": [
    "#Remove all the duplicate elements\n",
    "list1=[98,78,89,78,56,43,66,98]\n",
    "list2=[i for i in list1 if list1.count(i)<=1]\n",
    "print(list2)"
   ]
  },
  {
   "cell_type": "code",
   "execution_count": 17,
   "id": "a9e31571",
   "metadata": {},
   "outputs": [
    {
     "name": "stdout",
     "output_type": "stream",
     "text": [
      "[89, 78, 56, 43, 66, 98]\n"
     ]
    }
   ],
   "source": [
    "#Remove the duplicates\n",
    "list1=[98,78,89,78,56,43,66,98]\n",
    "tmp=[]\n",
    "for i in list1:\n",
    "    if i in tmp:\n",
    "        list1.remove(i)\n",
    "    tmp.append(i) \n",
    "print(list1)"
   ]
  },
  {
   "cell_type": "markdown",
   "id": "c4f1a2c8",
   "metadata": {},
   "source": [
    "## 5.Write a program to find the sum of the element in the list."
   ]
  },
  {
   "cell_type": "code",
   "execution_count": 18,
   "id": "546a1037",
   "metadata": {},
   "outputs": [
    {
     "name": "stdout",
     "output_type": "stream",
     "text": [
      "15\n"
     ]
    }
   ],
   "source": [
    "l1=[1,2,3,4,5]\n",
    "sum=0\n",
    "i=0\n",
    "while i<len(l1):\n",
    "    sum+=l1[i]\n",
    "    i=i+1\n",
    "print(sum)"
   ]
  },
  {
   "cell_type": "markdown",
   "id": "468981ad",
   "metadata": {},
   "source": [
    "## 6.Write the program to find the lists consist of at least one common element."
   ]
  },
  {
   "cell_type": "code",
   "execution_count": 19,
   "id": "79f446f4",
   "metadata": {},
   "outputs": [
    {
     "name": "stdout",
     "output_type": "stream",
     "text": [
      "[2, 6]\n"
     ]
    }
   ],
   "source": [
    "l2=[2,4,6,8,10,2,3,5,6]\n",
    "tmp=[]\n",
    "sum=[]\n",
    "for i in l2:\n",
    "    if i in tmp:\n",
    "        sum.append(i)\n",
    "    tmp.append(i)\n",
    "print(sum)"
   ]
  },
  {
   "cell_type": "markdown",
   "id": "525868da",
   "metadata": {},
   "source": [
    "## 1.sort a dictionary by value"
   ]
  },
  {
   "cell_type": "code",
   "execution_count": 20,
   "id": "7ee21953",
   "metadata": {},
   "outputs": [],
   "source": [
    "d={'one':11,'two':25,'three':60,'four':24}"
   ]
  },
  {
   "cell_type": "code",
   "execution_count": 21,
   "id": "86bc8458",
   "metadata": {},
   "outputs": [
    {
     "data": {
      "text/plain": [
       "[11, 24, 25, 60]"
      ]
     },
     "execution_count": 21,
     "metadata": {},
     "output_type": "execute_result"
    }
   ],
   "source": [
    "x=d.values()\n",
    "sorted(x)"
   ]
  },
  {
   "cell_type": "markdown",
   "id": "56b95a8b",
   "metadata": {},
   "source": [
    "## 2.add a key to a dictionary"
   ]
  },
  {
   "cell_type": "code",
   "execution_count": 22,
   "id": "71a42647",
   "metadata": {},
   "outputs": [
    {
     "data": {
      "text/plain": [
       "{'one': 11, 'two': 25, 'three': 60, 'four': 24}"
      ]
     },
     "execution_count": 22,
     "metadata": {},
     "output_type": "execute_result"
    }
   ],
   "source": [
    "d"
   ]
  },
  {
   "cell_type": "code",
   "execution_count": 23,
   "id": "ac49db6a",
   "metadata": {},
   "outputs": [],
   "source": [
    "d['five']=98"
   ]
  },
  {
   "cell_type": "code",
   "execution_count": 24,
   "id": "b084d80c",
   "metadata": {},
   "outputs": [
    {
     "data": {
      "text/plain": [
       "{'one': 11, 'two': 25, 'three': 60, 'four': 24, 'five': 98}"
      ]
     },
     "execution_count": 24,
     "metadata": {},
     "output_type": "execute_result"
    }
   ],
   "source": [
    "d"
   ]
  },
  {
   "cell_type": "markdown",
   "id": "31b58c63",
   "metadata": {},
   "source": [
    "## 3.divide all values in a dictionary by 10"
   ]
  },
  {
   "cell_type": "code",
   "execution_count": 25,
   "id": "835d2b99",
   "metadata": {},
   "outputs": [
    {
     "data": {
      "text/plain": [
       "{0: 0.0,\n",
       " 1: 0.1,\n",
       " 2: 0.2,\n",
       " 3: 0.3,\n",
       " 4: 0.4,\n",
       " 5: 0.5,\n",
       " 6: 0.6,\n",
       " 7: 0.7,\n",
       " 8: 0.8,\n",
       " 9: 0.9}"
      ]
     },
     "execution_count": 25,
     "metadata": {},
     "output_type": "execute_result"
    }
   ],
   "source": [
    "d={i:i/10 for i in range(10)}\n",
    "d"
   ]
  },
  {
   "cell_type": "markdown",
   "id": "94c4cc52",
   "metadata": {},
   "source": [
    "## 4.lower to upper case"
   ]
  },
  {
   "cell_type": "code",
   "execution_count": 26,
   "id": "5aec1869",
   "metadata": {},
   "outputs": [],
   "source": [
    "d={10:\"harish\",20:\"janu\",30:\"vicky\"}"
   ]
  },
  {
   "cell_type": "code",
   "execution_count": 27,
   "id": "c7c7e1aa",
   "metadata": {},
   "outputs": [
    {
     "data": {
      "text/plain": [
       "{10: 'harish', 20: 'janu', 30: 'vicky'}"
      ]
     },
     "execution_count": 27,
     "metadata": {},
     "output_type": "execute_result"
    }
   ],
   "source": [
    "d"
   ]
  },
  {
   "cell_type": "code",
   "execution_count": 28,
   "id": "f0c947b2",
   "metadata": {},
   "outputs": [],
   "source": [
    "x={i:d[i].upper() for i in d}"
   ]
  },
  {
   "cell_type": "code",
   "execution_count": 29,
   "id": "e6aa0675",
   "metadata": {},
   "outputs": [
    {
     "data": {
      "text/plain": [
       "{10: 'HARISH', 20: 'JANU', 30: 'VICKY'}"
      ]
     },
     "execution_count": 29,
     "metadata": {},
     "output_type": "execute_result"
    }
   ],
   "source": [
    "x"
   ]
  },
  {
   "cell_type": "code",
   "execution_count": 30,
   "id": "f80847d4",
   "metadata": {},
   "outputs": [
    {
     "name": "stdout",
     "output_type": "stream",
     "text": [
      "10 : HARISH\n",
      "20 : JANU\n",
      "30 : VICKY\n"
     ]
    }
   ],
   "source": [
    "#another way \n",
    "for i in d:\n",
    "    print(i,':',d[i].upper())"
   ]
  },
  {
   "cell_type": "markdown",
   "id": "5216259f",
   "metadata": {},
   "source": [
    "## 1.convert a string into list,tuple & set"
   ]
  },
  {
   "cell_type": "code",
   "execution_count": null,
   "id": "a0cdeefe",
   "metadata": {},
   "outputs": [],
   "source": [
    "str1=\"I bought a car\"\n",
    "type(str1)"
   ]
  },
  {
   "cell_type": "markdown",
   "id": "f80e9fd3",
   "metadata": {},
   "source": [
    "## "
   ]
  },
  {
   "cell_type": "code",
   "execution_count": null,
   "id": "a2d5f555",
   "metadata": {},
   "outputs": [],
   "source": []
  }
 ],
 "metadata": {
  "kernelspec": {
   "display_name": "Python 3 (ipykernel)",
   "language": "python",
   "name": "python3"
  },
  "language_info": {
   "codemirror_mode": {
    "name": "ipython",
    "version": 3
   },
   "file_extension": ".py",
   "mimetype": "text/x-python",
   "name": "python",
   "nbconvert_exporter": "python",
   "pygments_lexer": "ipython3",
   "version": "3.9.12"
  }
 },
 "nbformat": 4,
 "nbformat_minor": 5
}
