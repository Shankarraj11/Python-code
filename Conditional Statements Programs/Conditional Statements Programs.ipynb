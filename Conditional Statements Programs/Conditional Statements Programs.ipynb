{
 "cells": [
  {
   "cell_type": "markdown",
   "id": "fdb5ac3b",
   "metadata": {},
   "source": [
    "##  1.Write a program to check whether a given number is even or odd"
   ]
  },
  {
   "cell_type": "code",
   "execution_count": 1,
   "id": "74a73227",
   "metadata": {},
   "outputs": [
    {
     "name": "stdout",
     "output_type": "stream",
     "text": [
      "Enter the number: 4\n",
      "The Entered number is even\n"
     ]
    }
   ],
   "source": [
    "num=int(input(\"Enter the number: \"))\n",
    "if num%2==0:\n",
    "    print(\"The Entered number is even\")\n",
    "else:\n",
    "    print(\"The Entered number is Odd\")"
   ]
  },
  {
   "cell_type": "markdown",
   "id": "7f2d9e55",
   "metadata": {},
   "source": [
    "## 2.Write a program to check whether an alphabet is a vowel or consonant"
   ]
  },
  {
   "cell_type": "code",
   "execution_count": 2,
   "id": "f373d895",
   "metadata": {},
   "outputs": [
    {
     "name": "stdout",
     "output_type": "stream",
     "text": [
      "Enter a character: a\n",
      "a is a Vowel\n"
     ]
    }
   ],
   "source": [
    "ch = input(\"Enter a character: \")\n",
    "\n",
    "if(ch=='A' or ch=='a' or ch=='E' or ch =='e' or ch=='I'\n",
    " or ch=='i' or ch=='O' or ch=='o' or ch=='U' or ch=='u'):\n",
    "    print(ch, \"is a Vowel\")\n",
    "else:\n",
    "    print(ch, \"is a Consonant\")"
   ]
  },
  {
   "cell_type": "markdown",
   "id": "4b09c778",
   "metadata": {},
   "source": [
    "## 3.Write a program to check whether a person is eligible to vote or not."
   ]
  },
  {
   "cell_type": "code",
   "execution_count": 3,
   "id": "27b3b8bc",
   "metadata": {},
   "outputs": [
    {
     "name": "stdout",
     "output_type": "stream",
     "text": [
      "Enter the people age to check their eligibility for voting: 15\n",
      "The person is not eligible to vote\n"
     ]
    }
   ],
   "source": [
    "people_age=int(input(\"Enter the people age to check their eligibility for voting: \"))\n",
    "if people_age > 18:\n",
    "    print(\"The person is eligible to vote\")\n",
    "else:\n",
    "    print(\"The person is not eligible to vote\")"
   ]
  },
  {
   "cell_type": "markdown",
   "id": "fb1b2db1",
   "metadata": {},
   "source": [
    "## 4. Write a program to check whether a given number is positive or not"
   ]
  },
  {
   "cell_type": "code",
   "execution_count": 4,
   "id": "94d5eea5",
   "metadata": {},
   "outputs": [
    {
     "name": "stdout",
     "output_type": "stream",
     "text": [
      "Input a number: 6\n",
      "It is positive number\n"
     ]
    }
   ],
   "source": [
    "num = float(input(\"Input a number: \"))\n",
    "if num > 0:\n",
    "    print(\"It is positive number\")\n",
    "elif num == 0:\n",
    "    print(\"It is Zero\")\n",
    "else:\n",
    "    print(\"It is a negative number\")"
   ]
  },
  {
   "cell_type": "markdown",
   "id": "beecb7ba",
   "metadata": {},
   "source": [
    "## 5. Write a program to check whether a given year is leap year or not"
   ]
  },
  {
   "cell_type": "code",
   "execution_count": 5,
   "id": "94e8b8be",
   "metadata": {},
   "outputs": [
    {
     "name": "stdout",
     "output_type": "stream",
     "text": [
      "Enter a year: 1996\n",
      "1996 is a leap year\n"
     ]
    }
   ],
   "source": [
    "year = int(input(\"Enter a year: \"))\n",
    "\n",
    "if (year % 400 == 0) and (year % 100 == 0):\n",
    "    print(\"{0} is a leap year\".format(year))\n",
    "\n",
    "elif (year % 4 ==0) and (year % 100 != 0):\n",
    "    print(\"{0} is a leap year\".format(year))\n",
    "\n",
    "else:\n",
    "    print(\"{0} is not a leap year\".format(year))"
   ]
  },
  {
   "cell_type": "markdown",
   "id": "469c5aab",
   "metadata": {},
   "source": [
    "## 6. write a program to check whether triangle is equilateral scalene or isosceles"
   ]
  },
  {
   "cell_type": "code",
   "execution_count": 6,
   "id": "a5cd263c",
   "metadata": {},
   "outputs": [
    {
     "name": "stdout",
     "output_type": "stream",
     "text": [
      "Input lengths of the triangle sides: \n",
      "x: 8\n",
      "y: 5\n",
      "z: 5\n",
      "isosceles triangle\n"
     ]
    }
   ],
   "source": [
    "print(\"Input lengths of the triangle sides: \")\n",
    "x = int(input(\"x: \"))\n",
    "y = int(input(\"y: \"))\n",
    "z = int(input(\"z: \"))\n",
    "\n",
    "if x == y == z:\n",
    "    print(\"Equilateral triangle\")\n",
    "elif x==y or y==z or z==x:\n",
    "    print(\"isosceles triangle\")\n",
    "else:\n",
    "    print(\"Scalene triangle\")"
   ]
  },
  {
   "cell_type": "markdown",
   "id": "3d7d6c70",
   "metadata": {},
   "source": [
    "## 7. Write a program to check whether after selling a product its profit or loss"
   ]
  },
  {
   "cell_type": "code",
   "execution_count": 7,
   "id": "fa86256e",
   "metadata": {},
   "outputs": [
    {
     "name": "stdout",
     "output_type": "stream",
     "text": [
      "Please Enter the Actual Product Price: 50\n",
      "Please Enter the Sales Amount: 100\n",
      "Total Profit = 50.0\n"
     ]
    }
   ],
   "source": [
    "actual_cost = float(input(\"Please Enter the Actual Product Price: \"))\n",
    "sale_amount = float(input(\"Please Enter the Sales Amount: \"))\n",
    " \n",
    "if(actual_cost > sale_amount):\n",
    "    amount = actual_cost - sale_amount\n",
    "    print(\"Total Loss Amount = {0}\".format(amount))\n",
    "elif(sale_amount > actual_cost):\n",
    "    amount = sale_amount - actual_cost\n",
    "    print(\"Total Profit = {0}\".format(amount))\n",
    "else:\n",
    "    print(\"No Profit No Loss!!!\")"
   ]
  },
  {
   "cell_type": "markdown",
   "id": "2a504e61",
   "metadata": {},
   "source": [
    "## 8. Write a program to enter two numbers and print the greatest"
   ]
  },
  {
   "cell_type": "code",
   "execution_count": 8,
   "id": "9d16b051",
   "metadata": {},
   "outputs": [
    {
     "name": "stdout",
     "output_type": "stream",
     "text": [
      "Enter the first number: 10\n",
      "Enter the second number: 25\n",
      "25 is greater\n"
     ]
    }
   ],
   "source": [
    "a = int(input(\"Enter the first number: \"))\n",
    "b = int(input(\"Enter the second number: \"))\n",
    "if(a >= b):\n",
    "    print(a, \"is greater\")\n",
    "else:\n",
    "    print(b, \"is greater\")"
   ]
  },
  {
   "cell_type": "markdown",
   "id": "08a56583",
   "metadata": {},
   "source": [
    "## 9. Write a program to enter two numbers and print the smallest"
   ]
  },
  {
   "cell_type": "code",
   "execution_count": 9,
   "id": "5ce75ff6",
   "metadata": {},
   "outputs": [
    {
     "name": "stdout",
     "output_type": "stream",
     "text": [
      "Enter first number: 25\n",
      "Enter second number: 5\n",
      "Smallest is 5\n"
     ]
    }
   ],
   "source": [
    "first = float(input('Enter first number: '))\n",
    "second = float(input('Enter second number: '))\n",
    "\n",
    "if first < second:\n",
    "    small = first\n",
    "else:\n",
    "    small = second\n",
    "\n",
    "print('Smallest is %d' %(small))"
   ]
  },
  {
   "cell_type": "markdown",
   "id": "5eed8065",
   "metadata": {},
   "source": [
    "## 10. Write a program to enter three numbers and print the greatest number"
   ]
  },
  {
   "cell_type": "code",
   "execution_count": 10,
   "id": "5badd4ad",
   "metadata": {},
   "outputs": [
    {
     "name": "stdout",
     "output_type": "stream",
     "text": [
      "Enter first number: 5\n",
      "Enter second number: 10\n",
      "Enter third number: 2\n",
      "The largest number is 10\n"
     ]
    }
   ],
   "source": [
    "num1 = int(input(\"Enter first number: \"))\n",
    "num2 = int(input(\"Enter second number: \"))\n",
    "num3 = int(input(\"Enter third number: \"))\n",
    "\n",
    "if (num1 >= num2) and (num1 >= num3):\n",
    "    largest = num1\n",
    "elif (num2 >= num1) and (num2 >= num3):\n",
    "    largest = num2\n",
    "else:\n",
    "    largest = num3\n",
    "\n",
    "print(\"The largest number is\", largest)"
   ]
  },
  {
   "cell_type": "markdown",
   "id": "5bea6eb5",
   "metadata": {},
   "source": [
    "## 11. Write a program to enter three numbers and print the smallest number"
   ]
  },
  {
   "cell_type": "code",
   "execution_count": 12,
   "id": "010e149d",
   "metadata": {},
   "outputs": [
    {
     "name": "stdout",
     "output_type": "stream",
     "text": [
      "Enter first number  : 5\n",
      "Enter second number : 5\n",
      "Enter third number  : 4\n",
      "4 is the smallest of three numbers.\n"
     ]
    }
   ],
   "source": [
    "a = int(input('Enter first number  : '))\n",
    "b = int(input('Enter second number : '))\n",
    "c = int(input('Enter third number  : '))\n",
    "\n",
    "smallest = 0\n",
    "\n",
    "if a < b and a < c :\n",
    "    smallest = a\n",
    "if b < a and b < c :\n",
    "    smallest = b\n",
    "if c < a and c < b :\n",
    "    smallest = c\n",
    "\n",
    "print(smallest, \"is the smallest of three numbers.\")"
   ]
  },
  {
   "cell_type": "markdown",
   "id": "d478e3e8",
   "metadata": {},
   "source": [
    "## 12. Write a program to calculate the roots of a quadratic equation"
   ]
  },
  {
   "cell_type": "code",
   "execution_count": 13,
   "id": "392f220b",
   "metadata": {},
   "outputs": [
    {
     "name": "stdout",
     "output_type": "stream",
     "text": [
      "a: 1\n",
      "b: 5\n",
      "c: 6\n",
      "There are 2 roots: -2.000000 and -3.000000\n"
     ]
    }
   ],
   "source": [
    "from math import sqrt\n",
    "\n",
    "#print(\"Quadratic function : (a * x^2) + b*x + c\")\n",
    "a = float(input(\"a: \"))\n",
    "b = float(input(\"b: \"))\n",
    "c = float(input(\"c: \"))\n",
    "\n",
    "r = b**2 - 4*a*c\n",
    "\n",
    "if r > 0:\n",
    "    num_roots = 2\n",
    "    x1 = (((-b) + sqrt(r))/(2*a))     \n",
    "    x2 = (((-b) - sqrt(r))/(2*a))\n",
    "    print(\"There are 2 roots: %f and %f\" % (x1, x2))\n",
    "elif r == 0:\n",
    "    num_roots = 1\n",
    "    x = (-b) / 2*a\n",
    "    print(\"There is one root: \", x)\n",
    "else:\n",
    "    num_roots = 0\n",
    "    print(\"No roots, discriminant < 0.\")\n",
    "    exit()"
   ]
  },
  {
   "cell_type": "markdown",
   "id": "ba3a59f0",
   "metadata": {},
   "source": [
    "## 13. Write a program to enter a number between (1-7) and print the respective day of the week."
   ]
  },
  {
   "cell_type": "code",
   "execution_count": 14,
   "id": "a04fd3c5",
   "metadata": {},
   "outputs": [
    {
     "name": "stdout",
     "output_type": "stream",
     "text": [
      "Enter weekday day number (1-7) : 5\n",
      "\n",
      "Friday\n"
     ]
    }
   ],
   "source": [
    "weekday = int(input(\"Enter weekday day number (1-7) : \"))\n",
    "\n",
    "if weekday == 1 :\n",
    "    print(\"\\nMonday\");\n",
    "\n",
    "elif weekday == 2 :\n",
    "    print(\"\\nTuesday\")\n",
    "\n",
    "elif(weekday == 3) :\n",
    "    print(\"\\nWednesday\")\n",
    "\n",
    "elif(weekday == 4) :\n",
    "    print(\"\\nThursday\")\n",
    "\n",
    "elif(weekday == 5) :\n",
    "    print(\"\\nFriday\")\n",
    "\n",
    "elif(weekday == 6) :\n",
    "    print(\"\\nSaturday\")\n",
    "\n",
    "elif (weekday == 7) :\n",
    "    print(\"\\nSunday\")\n",
    "\n",
    "else :\n",
    "    print(\"\\nPlease enter weekday number between 1-7.\")"
   ]
  },
  {
   "cell_type": "markdown",
   "id": "7a132585",
   "metadata": {},
   "source": [
    "## 14. Write a program to enter a number between (1-12) and print the respective month"
   ]
  },
  {
   "cell_type": "code",
   "execution_count": 15,
   "id": "126f2988",
   "metadata": {},
   "outputs": [
    {
     "name": "stdout",
     "output_type": "stream",
     "text": [
      "Enter the month number: 9\n",
      "September\n"
     ]
    }
   ],
   "source": [
    "x = int(input(\"Enter the month number: \"))\n",
    "if (x==1):\n",
    "    print (\"Jan\")\n",
    "if (x==2):\n",
    "    print(\"Feb\")\n",
    "if (x==3):\n",
    "    print(\"March\")\n",
    "if (x==4):\n",
    "    print(\"April\")\n",
    "if (x==5):\n",
    "    print(\"May\")\n",
    "if (x==6):\n",
    "    print(\"June\")\n",
    "if (x==7):\n",
    "    print(\"July\")\n",
    "if (x==8):\n",
    "    print(\"August\")\n",
    "if(x==9):\n",
    "    print(\"September\")\n",
    "if(x==10):\n",
    "    print(\"October\")\n",
    "if(x==11):\n",
    "    print(\"November\")\n",
    "if(x==12):\n",
    "    print(\"December\")\n",
    "if(x<1 or x>12):\n",
    "    print(\"Invalid input\")"
   ]
  },
  {
   "cell_type": "markdown",
   "id": "59fe5f9e",
   "metadata": {},
   "source": [
    "## 15. Write a program to enter a number between (1-4) and perform the following operation addition subtraction in python"
   ]
  },
  {
   "cell_type": "code",
   "execution_count": 16,
   "id": "4d7e0979",
   "metadata": {},
   "outputs": [
    {
     "name": "stdout",
     "output_type": "stream",
     "text": [
      "Enter first number: 15\n",
      "Enter second number: 3\n",
      "1. Addition 2.Subtract 3.Multiplication 4.Division\n",
      "Enter your choice: 4\n",
      "Division of 15 and 3 = 5.0\n"
     ]
    }
   ],
   "source": [
    "a = int(input(\"Enter first number: \")) \n",
    "b = int(input(\"Enter second number: \")) \n",
    "print(\"1. Addition 2.Subtract 3.Multiplication 4.Division\") \n",
    "choice = int(input(\"Enter your choice: \")) \n",
    "if(choice == 1): \n",
    "    print(\"Addition of {} and {} = {}\".format(a, b, a+b)) \n",
    "elif(choice == 2): \n",
    "    print(\"Subtraction of {} and {} = {}\".format(a, b, a-b)) \n",
    "elif(choice == 3): \n",
    "    print(\"Multiplication of {} and {} = {}\".format(a, b, a*b)) \n",
    "elif(choice == 4): \n",
    "    print(\"Division of {} and {} = {}\".format(a, b, a/b)) \n",
    "else: \n",
    "    print(\"Wrong Choice\") "
   ]
  },
  {
   "cell_type": "markdown",
   "id": "d67c9b0d",
   "metadata": {},
   "source": [
    "## 16. Write a Program to convert temperatures to and from celsius Fahrenheit"
   ]
  },
  {
   "cell_type": "code",
   "execution_count": 17,
   "id": "854213c7",
   "metadata": {},
   "outputs": [
    {
     "name": "stdout",
     "output_type": "stream",
     "text": [
      "Input the  temperature you like to convert? : 45f\n",
      "The temperature in Celsius is 7 degrees.\n"
     ]
    }
   ],
   "source": [
    "temp = input(\"Input the  temperature you like to convert? : \")\n",
    "degree = int(temp[:-1])\n",
    "i_convention = temp[-1]\n",
    "\n",
    "if i_convention.upper() == \"C\":\n",
    "  result = int(round((9 * degree) / 5 + 32))\n",
    "  o_convention = \"Fahrenheit\"\n",
    "elif i_convention.upper() == \"F\":\n",
    "  result = int(round((degree - 32) * 5 / 9))\n",
    "  o_convention = \"Celsius\"\n",
    "else:\n",
    "  print(\"Input proper convention.\")\n",
    "  quit()\n",
    "print(\"The temperature in\", o_convention, \"is\", result, \"degrees.\")"
   ]
  },
  {
   "cell_type": "markdown",
   "id": "5b7e3f20",
   "metadata": {},
   "source": [
    "## 17. A company decided to give bonus of 5% to employee if his/her year of service is more than 5 years. Ask users for their salary and year of service and print the net bonus amount"
   ]
  },
  {
   "cell_type": "code",
   "execution_count": 18,
   "id": "e278ef9c",
   "metadata": {},
   "outputs": [
    {
     "name": "stdout",
     "output_type": "stream",
     "text": [
      "Enter your salary:15000\n",
      "Enter Years of service:6\n",
      "Yours salary(+Bonus) =  15750.0\n"
     ]
    }
   ],
   "source": [
    "salary = float(input(\"Enter your salary:\"))\n",
    "\n",
    "service_yrs = float(input(\"Enter Years of service:\"))\n",
    "\n",
    "if service_yrs > 5:\n",
    "\n",
    "    print(\"Yours salary(+Bonus) = \",salary + (salary)*5/100)\n",
    "\n",
    "else:\n",
    "\n",
    "     print(\"You are not eligible for bonus as you have less service years.\")"
   ]
  },
  {
   "cell_type": "markdown",
   "id": "db91162c",
   "metadata": {},
   "source": [
    "## 18. Write a program to take input of length and breadth of a rectangle from user and check if it is square or not."
   ]
  },
  {
   "cell_type": "code",
   "execution_count": 19,
   "id": "27e853ad",
   "metadata": {},
   "outputs": [
    {
     "name": "stdout",
     "output_type": "stream",
     "text": [
      "Enter your first number :5\n",
      "Enter your second number :5\n",
      "Its a square\n"
     ]
    }
   ],
   "source": [
    "l=int(input(\"Enter your first number :\"))\n",
    "\n",
    "b=int(input(\"Enter your second number :\"))\n",
    "\n",
    "if l==b:\n",
    "\n",
    "    print(\"Its a square\")\n",
    "\n",
    "else :\n",
    "\n",
    "    print(\"its an rectangle\")"
   ]
  },
  {
   "cell_type": "markdown",
   "id": "3af60d72",
   "metadata": {},
   "source": [
    "## 19. Take Input of age of 3 people by user and determine oldest and youngest amoung them."
   ]
  },
  {
   "cell_type": "code",
   "execution_count": 20,
   "id": "dff3feb0",
   "metadata": {},
   "outputs": [
    {
     "name": "stdout",
     "output_type": "stream",
     "text": [
      "enter age for user1 : 10\n",
      "enter age for user2 : 15\n",
      "enter age for user3 : 5\n",
      "User 2 is oldest\n",
      "User 3 is youngest\n"
     ]
    }
   ],
   "source": [
    "age1=int(input('enter age for user1 : '))\n",
    "age2=int(input('enter age for user2 : '))\n",
    "age3=int(input('enter age for user3 : '))\n",
    "if age1>age2 and age1>age3:\n",
    "    print('User 1 is oldest')\n",
    "elif age2>age1 and age2>age3:\n",
    "    print('User 2 is oldest')\n",
    "else:\n",
    "    print('User 3 is oldest')\n",
    "if age1<age2 and age1<age3:\n",
    "    print('User 1 is youngest')\n",
    "elif age2<age1 and age2<age3:\n",
    "    print('User 2 is youngest')\n",
    "else:\n",
    "     print('User 3 is youngest')"
   ]
  },
  {
   "cell_type": "markdown",
   "id": "d8d0efe8",
   "metadata": {},
   "source": [
    "## 20. A School has following rules for grading system.\n",
    "\n",
    "- a) Below 25 - F\n",
    "- b) 25 to 45 - E\n",
    "- c) 45 to 50 - D\n",
    "- d) 50 to 60 - C\n",
    "- e) 60 to 80 - B\n",
    "- f) 80 to 100 - A\n",
    "\n",
    "- Ask the user to enter the marks and print the corresponding grade."
   ]
  },
  {
   "cell_type": "code",
   "execution_count": 21,
   "id": "24ba9336",
   "metadata": {},
   "outputs": [
    {
     "name": "stdout",
     "output_type": "stream",
     "text": [
      "Enter your score: 85\n",
      "A\n"
     ]
    }
   ],
   "source": [
    "score = int(input(\"Enter your score: \"))\n",
    "\n",
    "if score < 25:\n",
    "    print(\"F\")\n",
    "elif score >= 25 and score < 45:  \n",
    "    print(\"E\")\n",
    "elif score >= 45 and score < 50:  \n",
    "    print(\"D\")\n",
    "elif score >= 50 and score < 60:  \n",
    "    print(\"C\")\n",
    "elif score >= 60 and score < 80:  \n",
    "    print(\"B\")\n",
    "else:  \n",
    "    print(\"A\")"
   ]
  },
  {
   "cell_type": "markdown",
   "id": "7fba5155",
   "metadata": {},
   "source": [
    "## 21. A student will not be allowed to sit in exam if his/her attendance is less than 75%\n",
    "\n",
    "- Take Following input from user\n",
    "- Number of classes held\n",
    "- Number of class attended\n",
    "- And print\n",
    "- Percentage of class attended\n",
    "- Is student is allowed to sit in exam or not."
   ]
  },
  {
   "cell_type": "code",
   "execution_count": 22,
   "id": "7b186d37",
   "metadata": {},
   "outputs": [
    {
     "name": "stdout",
     "output_type": "stream",
     "text": [
      "Number of classes held:50\n",
      "Number of classes attended:25\n",
      "The student is not allowed to sit in the exam hall\n"
     ]
    }
   ],
   "source": [
    "a=int(input(\"Number of classes held:\"))\n",
    "\n",
    "b=int(input(\"Number of classes attended:\"))\n",
    "\n",
    "percentage=b/a*100\n",
    "\n",
    "if percentage>=75:\n",
    "\n",
    "        print(\"The student is allowed to sit in the exam hall\")\n",
    "\n",
    "else:\n",
    "\n",
    "        print(\"The student is not allowed to sit in the exam hall\")"
   ]
  },
  {
   "cell_type": "code",
   "execution_count": null,
   "id": "98097bb4",
   "metadata": {},
   "outputs": [],
   "source": []
  }
 ],
 "metadata": {
  "kernelspec": {
   "display_name": "Python 3 (ipykernel)",
   "language": "python",
   "name": "python3"
  },
  "language_info": {
   "codemirror_mode": {
    "name": "ipython",
    "version": 3
   },
   "file_extension": ".py",
   "mimetype": "text/x-python",
   "name": "python",
   "nbconvert_exporter": "python",
   "pygments_lexer": "ipython3",
   "version": "3.9.12"
  }
 },
 "nbformat": 4,
 "nbformat_minor": 5
}
