{
 "cells": [
  {
   "cell_type": "markdown",
   "id": "d2952172",
   "metadata": {},
   "source": [
    "## 1.write a function to find the max of three numbers"
   ]
  },
  {
   "cell_type": "code",
   "execution_count": 1,
   "id": "ca619dbb",
   "metadata": {},
   "outputs": [
    {
     "name": "stdout",
     "output_type": "stream",
     "text": [
      "10\n",
      "25\n",
      "3\n",
      "The greatest number is 25\n"
     ]
    }
   ],
   "source": [
    "def max_func(a,b,c):\n",
    "    d=0\n",
    "    if a>b and a>c:\n",
    "        d=a\n",
    "    elif b>a and b>c:\n",
    "        d=b\n",
    "    elif c>a and c>b:\n",
    "        d=c\n",
    "        \n",
    "    return d\n",
    "\n",
    "num1=int(input())\n",
    "num2=int(input())\n",
    "num3=int(input())\n",
    "max_num=max_func(num1,num2,num3)\n",
    "print(\"The greatest number is\",max_num)   "
   ]
  },
  {
   "cell_type": "markdown",
   "id": "bc565afa",
   "metadata": {},
   "source": [
    "## 2.write a function to sum all the numbers in the list"
   ]
  },
  {
   "cell_type": "code",
   "execution_count": 2,
   "id": "1a397a2c",
   "metadata": {},
   "outputs": [],
   "source": [
    "def sum_func():\n",
    "    total=0\n",
    "    l1=map(int,input(\"Enter the numbers: \").split())\n",
    "    for x in l1:\n",
    "        total=total+x\n",
    "    print(\"The sum of all the number is\",total)   "
   ]
  },
  {
   "cell_type": "code",
   "execution_count": 3,
   "id": "9f7058f9",
   "metadata": {},
   "outputs": [
    {
     "name": "stdout",
     "output_type": "stream",
     "text": [
      "Enter the numbers: 3 5 6\n",
      "The sum of all the number is 14\n"
     ]
    }
   ],
   "source": [
    "sum_func()"
   ]
  },
  {
   "cell_type": "markdown",
   "id": "b66a03ae",
   "metadata": {},
   "source": [
    "## 3.write a function to sum all the numbers in the list"
   ]
  },
  {
   "cell_type": "code",
   "execution_count": 4,
   "id": "9b3aa64d",
   "metadata": {},
   "outputs": [],
   "source": [
    "def mul_func():\n",
    "    total=1\n",
    "    l1=list(map(int,input(\"Enter the numbers: \").split()))\n",
    "    for x in range(len(l1)):\n",
    "        total=total*l1[x]\n",
    "    print(\"The Multiplication of all the number is\",total) "
   ]
  },
  {
   "cell_type": "code",
   "execution_count": 5,
   "id": "d88c9309",
   "metadata": {},
   "outputs": [
    {
     "name": "stdout",
     "output_type": "stream",
     "text": [
      "Enter the numbers: 2 5 7\n",
      "The Multiplication of all the number is 70\n"
     ]
    }
   ],
   "source": [
    "mul_func()"
   ]
  },
  {
   "cell_type": "markdown",
   "id": "d59ed822",
   "metadata": {},
   "source": [
    "## 4.write a function to reverse a string"
   ]
  },
  {
   "cell_type": "code",
   "execution_count": 6,
   "id": "edcf3d65",
   "metadata": {},
   "outputs": [
    {
     "name": "stdout",
     "output_type": "stream",
     "text": [
      "Enter a string to reverse:Hello\n",
      "The reversed string is olleH\n"
     ]
    }
   ],
   "source": [
    "def rev_str(st):\n",
    "    temp=st\n",
    "    str2=\"\"\n",
    "    i=-1\n",
    "    while i>=-len(st):\n",
    "        str2=str2+st[i]\n",
    "        i=i-1\n",
    "    return str2\n",
    "str1=input(\"Enter a string to reverse:\")\n",
    "result=rev_str(str1)\n",
    "print(\"The reversed string is\",result)\n"
   ]
  },
  {
   "cell_type": "markdown",
   "id": "169195d9",
   "metadata": {},
   "source": [
    "## 5.write a function to calculate the factorial of number"
   ]
  },
  {
   "cell_type": "code",
   "execution_count": 7,
   "id": "86123a60",
   "metadata": {},
   "outputs": [
    {
     "name": "stdout",
     "output_type": "stream",
     "text": [
      "Enter a number to find the factorial: 5\n",
      "The factorial of a number 5 is 120\n"
     ]
    }
   ],
   "source": [
    "def factorial(n):\n",
    "    fact=1\n",
    "    for i in range(1,n+1):\n",
    "        fact=fact*i\n",
    "    return fact\n",
    "\n",
    "n=int(input(\"Enter a number to find the factorial: \"))\n",
    "res=factorial(n)\n",
    "print(\"The factorial of a number {0} is\".format(n),res)"
   ]
  },
  {
   "cell_type": "markdown",
   "id": "4ea12852",
   "metadata": {},
   "source": [
    "## 6.write a function that accepts the string and calculate the number of upper and lower case letters"
   ]
  },
  {
   "cell_type": "code",
   "execution_count": 8,
   "id": "05ea882b",
   "metadata": {},
   "outputs": [],
   "source": [
    "def count_case(s):\n",
    "    cntup=0\n",
    "    cntlw=0\n",
    "    for x in s:\n",
    "        if x.isupper():\n",
    "            cntup=cntup+1\n",
    "        elif x.islower():\n",
    "            cntlw=cntlw+1\n",
    "    print(\"The total no. of upper case in the entered string is\",cntup)\n",
    "    print(\"The total no. of lower case in the entered string is\",cntlw)"
   ]
  },
  {
   "cell_type": "code",
   "execution_count": 9,
   "id": "db7f6495",
   "metadata": {},
   "outputs": [
    {
     "name": "stdout",
     "output_type": "stream",
     "text": [
      "Hello Everyone\n",
      "The total no. of upper case in the entered string is 2\n",
      "The total no. of lower case in the entered string is 11\n",
      "None\n"
     ]
    }
   ],
   "source": [
    "st=input()\n",
    "str1=count_case(st)\n",
    "print(str1)\n"
   ]
  },
  {
   "cell_type": "markdown",
   "id": "0b4f20a6",
   "metadata": {},
   "source": [
    "## 7.write a function that takes a list and returns a new list with the unique elements of the first list"
   ]
  },
  {
   "cell_type": "code",
   "execution_count": 10,
   "id": "070977fc",
   "metadata": {},
   "outputs": [
    {
     "name": "stdout",
     "output_type": "stream",
     "text": [
      "1 5 6 7 4 8 3 9 7\n",
      "[1, 5, 6, 7, 4, 8, 3, 9]\n"
     ]
    }
   ],
   "source": [
    "def list_fun(l):\n",
    "    temp=[]\n",
    "    for i in l:\n",
    "        if i not in temp:\n",
    "            temp.append(i)\n",
    "    l=temp\n",
    "    return l\n",
    "\n",
    "l1=list(map(int,input().split()))\n",
    "res=list_fun(l1)\n",
    "print(res)"
   ]
  },
  {
   "cell_type": "code",
   "execution_count": null,
   "id": "02ce5a92",
   "metadata": {},
   "outputs": [],
   "source": []
  }
 ],
 "metadata": {
  "kernelspec": {
   "display_name": "Python 3 (ipykernel)",
   "language": "python",
   "name": "python3"
  },
  "language_info": {
   "codemirror_mode": {
    "name": "ipython",
    "version": 3
   },
   "file_extension": ".py",
   "mimetype": "text/x-python",
   "name": "python",
   "nbconvert_exporter": "python",
   "pygments_lexer": "ipython3",
   "version": "3.9.12"
  }
 },
 "nbformat": 4,
 "nbformat_minor": 5
}
