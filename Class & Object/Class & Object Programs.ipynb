{
 "cells": [
  {
   "cell_type": "markdown",
   "id": "faa486d9",
   "metadata": {},
   "source": [
    "## 1.write a simple python class named Student and display its type, also display the dict attribute keys and the value of the module attribute of the Student class"
   ]
  },
  {
   "cell_type": "code",
   "execution_count": 1,
   "id": "8ef75db4",
   "metadata": {},
   "outputs": [
    {
     "name": "stdout",
     "output_type": "stream",
     "text": [
      "Id:  101 \n",
      "Name:  Janu\n",
      "Display\n",
      "=======\n",
      "<class 'type'>\n",
      "{'__module__': '__main__', '__init__': <function Student.__init__ at 0x0000014A36383700>, 'showinfo': <function Student.showinfo at 0x0000014A36383AF0>, '__dict__': <attribute '__dict__' of 'Student' objects>, '__weakref__': <attribute '__weakref__' of 'Student' objects>, '__doc__': None}\n",
      "__main__\n"
     ]
    }
   ],
   "source": [
    "class Student:\n",
    "    def __init__(self,id,name):\n",
    "        self.id=id\n",
    "        self.name=name\n",
    "        \n",
    "    def showinfo(self):\n",
    "        print(\"Id: \",self.id,\"\\nName: \",self.name)\n",
    "        \n",
    "obj=Student(101,\"Janu\")\n",
    "obj.showinfo()\n",
    "print(\"Display\")\n",
    "print(\"=======\")\n",
    "print(type(Student))\n",
    "print(Student.__dict__)\n",
    "print(Student.__module__)"
   ]
  },
  {
   "cell_type": "markdown",
   "id": "bc96f5d3",
   "metadata": {},
   "source": [
    "## 2.write a python class to convert an integer to a roman numeral"
   ]
  },
  {
   "cell_type": "code",
   "execution_count": 2,
   "id": "cafb9ef9",
   "metadata": {},
   "outputs": [
    {
     "name": "stdout",
     "output_type": "stream",
     "text": [
      "I\n",
      "MMMM\n"
     ]
    }
   ],
   "source": [
    "class py_solution:\n",
    "    def int_to_Roman(self, num):\n",
    "        val = [\n",
    "            1000, 900, 500, 400,\n",
    "            100, 90, 50, 40,\n",
    "            10, 9, 5, 4,\n",
    "            1\n",
    "            ]\n",
    "        syb = [\n",
    "            \"M\", \"CM\", \"D\", \"CD\",\n",
    "            \"C\", \"XC\", \"L\", \"XL\",\n",
    "            \"X\", \"IX\", \"V\", \"IV\",\n",
    "            \"I\"\n",
    "            ]\n",
    "        roman_num = ''\n",
    "        i = 0\n",
    "        while  num > 0:\n",
    "            for _ in range(num // val[i]):\n",
    "                roman_num += syb[i]\n",
    "                num -= val[i]\n",
    "            i += 1\n",
    "        return roman_num\n",
    "\n",
    "\n",
    "print(py_solution().int_to_Roman(1))\n",
    "print(py_solution().int_to_Roman(4000))"
   ]
  },
  {
   "cell_type": "markdown",
   "id": "14ebb4c6",
   "metadata": {},
   "source": [
    "## 3.write a python class to convert roman numeral"
   ]
  },
  {
   "cell_type": "code",
   "execution_count": 3,
   "id": "3b7a61d3",
   "metadata": {},
   "outputs": [
    {
     "name": "stdout",
     "output_type": "stream",
     "text": [
      "3986\n",
      "4000\n",
      "100\n"
     ]
    }
   ],
   "source": [
    "class py_solution:\n",
    "    def roman_to_int(self, s):\n",
    "        rom_val = {'I': 1, 'V': 5, 'X': 10, 'L': 50, 'C': 100, 'D': 500, 'M': 1000}\n",
    "        int_val = 0\n",
    "        for i in range(len(s)):\n",
    "            if i > 0 and rom_val[s[i]] > rom_val[s[i - 1]]:\n",
    "                int_val += rom_val[s[i]] - 2 * rom_val[s[i - 1]]\n",
    "            else:\n",
    "                int_val += rom_val[s[i]]\n",
    "        return int_val\n",
    "\n",
    "print(py_solution().roman_to_int('MMMCMLXXXVI'))\n",
    "print(py_solution().roman_to_int('MMMM'))\n",
    "print(py_solution().roman_to_int('C'))"
   ]
  },
  {
   "cell_type": "markdown",
   "id": "f4a4dfa8",
   "metadata": {},
   "source": [
    "## 4.write a python class to implement pow(x,n)"
   ]
  },
  {
   "cell_type": "code",
   "execution_count": 4,
   "id": "495b8486",
   "metadata": {},
   "outputs": [
    {
     "name": "stdout",
     "output_type": "stream",
     "text": [
      "16\n"
     ]
    }
   ],
   "source": [
    "class powerclass:      \n",
    "    def power(self,num1,num2):\n",
    "        print(pow(num1,num2))\n",
    "\n",
    "obj=powerclass().power(4,2)"
   ]
  },
  {
   "cell_type": "markdown",
   "id": "7d756ac4",
   "metadata": {},
   "source": [
    "## 5.write a python class to reverse a string word by word"
   ]
  },
  {
   "cell_type": "code",
   "execution_count": 5,
   "id": "1c99916d",
   "metadata": {},
   "outputs": [
    {
     "name": "stdout",
     "output_type": "stream",
     "text": [
      "dlroW olleH\n"
     ]
    }
   ],
   "source": [
    "class reverse:\n",
    "    def __init__(self,string):\n",
    "        self.string=string\n",
    "        \n",
    "    def rev_str(self):\n",
    "        s=self.string\n",
    "        res=''\n",
    "        for i in range(len(s)):\n",
    "            res=s[i]+res\n",
    "        print(res)\n",
    "        \n",
    "x=reverse(\"Hello World\")\n",
    "x.rev_str()"
   ]
  },
  {
   "cell_type": "code",
   "execution_count": null,
   "id": "8e2a27c5",
   "metadata": {},
   "outputs": [],
   "source": []
  }
 ],
 "metadata": {
  "kernelspec": {
   "display_name": "Python 3 (ipykernel)",
   "language": "python",
   "name": "python3"
  },
  "language_info": {
   "codemirror_mode": {
    "name": "ipython",
    "version": 3
   },
   "file_extension": ".py",
   "mimetype": "text/x-python",
   "name": "python",
   "nbconvert_exporter": "python",
   "pygments_lexer": "ipython3",
   "version": "3.9.12"
  }
 },
 "nbformat": 4,
 "nbformat_minor": 5
}
