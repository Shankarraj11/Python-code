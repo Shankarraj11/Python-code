{
 "cells": [
  {
   "cell_type": "markdown",
   "id": "63dbf3b9",
   "metadata": {},
   "source": [
    "## 1.Write a program to print yourself introduction"
   ]
  },
  {
   "cell_type": "code",
   "execution_count": 1,
   "id": "0dc1cd55",
   "metadata": {},
   "outputs": [
    {
     "name": "stdout",
     "output_type": "stream",
     "text": [
      "Name: Shankarraj\n",
      "Age: 23\n",
      "Address: Erode, Tamilnadu, India\n"
     ]
    }
   ],
   "source": [
    "def personal_details():\n",
    "    name, age = \"Shankarraj\", 23\n",
    "    address = \"Erode, Tamilnadu, India\"\n",
    "    print(\"Name: {}\\nAge: {}\\nAddress: {}\".format(name, age, address))\n",
    " \n",
    "personal_details()"
   ]
  },
  {
   "cell_type": "markdown",
   "id": "03ae4126",
   "metadata": {},
   "source": [
    "## 2.Write a program to perform the following operations:\n",
    "- Addition\n",
    "- Subtraction\n",
    "- Multiplication\n",
    "- Division\n",
    "- Modulus\n",
    "- Exponent"
   ]
  },
  {
   "cell_type": "code",
   "execution_count": 2,
   "id": "fadb2f12",
   "metadata": {},
   "outputs": [
    {
     "name": "stdout",
     "output_type": "stream",
     "text": [
      "Enter a first value: 5\n",
      "Enter a second value: 6\n",
      "The Addition of two numbers 5 and 6 is 11\n",
      "The Subtraction of two numbers 5 and 6 is -1\n",
      "The Multiplication of two numbers 5 and 6 is 30\n",
      "The Division of two numbers 5 and 6 is 0.8333333333333334\n",
      "The Modulus of two numbers 5 and 6 is 5\n",
      "The Exponent of two numbers 5 and 6 is 15625\n"
     ]
    }
   ],
   "source": [
    "5num1=int(input(\"Enter a first value: \"))\n",
    "num2=int(input(\"Enter a second value: \"))\n",
    "\n",
    "#Addition\n",
    "\n",
    "add=num1+num2\n",
    "print(\"The Addition of two numbers {} and {} is {}\".format(num1,num2,add))\n",
    "\n",
    "#Subtraction\n",
    "\n",
    "sub=num1-num2\n",
    "print(\"The Subtraction of two numbers {} and {} is {}\".format(num1,num2,sub))\n",
    "\n",
    "#Multiplication\n",
    "\n",
    "mul=num1*num2\n",
    "print(\"The Multiplication of two numbers {} and {} is {}\".format(num1,num2,mul))\n",
    "\n",
    "#Division\n",
    "\n",
    "div=num1/num2\n",
    "print(\"The Division of two numbers {} and {} is {}\".format(num1,num2,div))\n",
    "\n",
    "\n",
    "#Modulus\n",
    "\n",
    "mod=num1%num2\n",
    "print(\"The Modulus of two numbers {} and {} is {}\".format(num1,num2,mod))\n",
    "\n",
    "#Exponent\n",
    "\n",
    "exp=num1**num2\n",
    "print(\"The Exponent of two numbers {} and {} is {}\".format(num1,num2,exp))"
   ]
  },
  {
   "cell_type": "markdown",
   "id": "a8ba89c0",
   "metadata": {},
   "source": [
    "##  3.write a program to swap two numbers"
   ]
  },
  {
   "cell_type": "code",
   "execution_count": 3,
   "id": "4eb38df3",
   "metadata": {},
   "outputs": [
    {
     "name": "stdout",
     "output_type": "stream",
     "text": [
      "Enter the value of x: 5\n",
      "Enter the value of y: 3\n",
      "The value of x after swapping: 3\n",
      "The value of y after swapping: 5\n"
     ]
    }
   ],
   "source": [
    "x = int(input(\"Enter the value of x: \"))\n",
    "y = int(input(\"Enter the value of y: \"))\n",
    "\n",
    "temp = x\n",
    "x = y\n",
    "y = temp\n",
    "\n",
    "print('The value of x after swapping: {}'.format(x))\n",
    "print('The value of y after swapping: {}'.format(y))"
   ]
  },
  {
   "cell_type": "markdown",
   "id": "c50f4edf",
   "metadata": {},
   "source": [
    "## 4. write a program to swap two numbers without using third variable"
   ]
  },
  {
   "cell_type": "code",
   "execution_count": 4,
   "id": "367b53aa",
   "metadata": {},
   "outputs": [
    {
     "name": "stdout",
     "output_type": "stream",
     "text": [
      "Enter the value of x: 4\n",
      "Enter the value of y: 7\n",
      "x = 7\n",
      "y = 4\n"
     ]
    }
   ],
   "source": [
    "x = int(input(\"Enter the value of x: \"))\n",
    "y = int(input(\"Enter the value of y: \"))\n",
    "\n",
    "x, y = y, x\n",
    "print(\"x =\", x)\n",
    "print(\"y =\", y)"
   ]
  },
  {
   "cell_type": "markdown",
   "id": "f9d9cb49",
   "metadata": {},
   "source": [
    "## 5. Write a program to compute simple Interest"
   ]
  },
  {
   "cell_type": "code",
   "execution_count": 5,
   "id": "c3db4844",
   "metadata": {},
   "outputs": [
    {
     "name": "stdout",
     "output_type": "stream",
     "text": [
      "The principal is: 4\n",
      "The time period is: 6\n",
      "The rate of interest is: 3\n",
      "The Simple Interest is 0.72\n"
     ]
    }
   ],
   "source": [
    "p=int(input('The principal is: '))\n",
    "t=int(input('The time period is: '))\n",
    "r=int(input('The rate of interest is: '))\n",
    "\n",
    "si = (p * t * r)/100\n",
    "\n",
    "print('The Simple Interest is', si)"
   ]
  },
  {
   "cell_type": "markdown",
   "id": "8fdbf978",
   "metadata": {},
   "source": [
    "## 6. wrtie a program to find the average of five numbers by user input"
   ]
  },
  {
   "cell_type": "code",
   "execution_count": 6,
   "id": "4f6ba9b7",
   "metadata": {},
   "outputs": [
    {
     "name": "stdout",
     "output_type": "stream",
     "text": [
      "Enter the Value of n: \n",
      "5\n",
      "Enter 5 Numbers: \n",
      "34\n",
      "54\n",
      "55\n",
      "22\n",
      "12\n",
      "\n",
      "Average =  35.4\n"
     ]
    }
   ],
   "source": [
    "print(\"Enter the Value of n: \")\n",
    "n = int(input())\n",
    "print(\"Enter \" +str(n)+ \" Numbers: \")\n",
    "nums = []\n",
    "for i in range(n):\n",
    "    nums.insert(i, int(input()))\n",
    "\n",
    "sum = 0\n",
    "for i in range(n):\n",
    "    sum = sum+nums[i]\n",
    "\n",
    "avg = sum/n\n",
    "print(\"\\nAverage = \", avg)"
   ]
  },
  {
   "cell_type": "markdown",
   "id": "2b7dbbf6",
   "metadata": {},
   "source": [
    "## 7. write a program to calculate the discriminant of a quadratic equation"
   ]
  },
  {
   "cell_type": "code",
   "execution_count": 7,
   "id": "2f3e4cd7",
   "metadata": {},
   "outputs": [
    {
     "name": "stdout",
     "output_type": "stream",
     "text": [
      "1\n",
      "3\n",
      "5\n",
      "The solution are (-1.5-1.6583123951777j) and (-1.5+1.6583123951777j)\n"
     ]
    }
   ],
   "source": [
    "import cmath\n",
    "\n",
    "a = int(input())\n",
    "b = int(input())\n",
    "c = int(input())\n",
    "\n",
    "d = (b**2) - (4*a*c)\n",
    "\n",
    "sol1 = (-b-cmath.sqrt(d))/(2*a)\n",
    "sol2 = (-b+cmath.sqrt(d))/(2*a)\n",
    "\n",
    "print('The solution are {0} and {1}'.format(sol1,sol2))"
   ]
  },
  {
   "cell_type": "markdown",
   "id": "8648bbaa",
   "metadata": {},
   "source": [
    "## 8. write a program to calculate the areas of the following shapes:\n",
    "- Rectangle\n",
    "- Square\n",
    "- Trinangle\n",
    "- Circle"
   ]
  },
  {
   "cell_type": "code",
   "execution_count": 9,
   "id": "d6cf594b",
   "metadata": {},
   "outputs": [
    {
     "name": "stdout",
     "output_type": "stream",
     "text": [
      "Enter first side: 5\n",
      "Enter second side: 6\n",
      "Enter third side: 7\n",
      "The area of the triangle is 14.70\n"
     ]
    }
   ],
   "source": [
    "# Python Program to find the area of triangle\n",
    "\n",
    "a = float(input('Enter first side: '))\n",
    "b = float(input('Enter second side: '))\n",
    "c = float(input('Enter third side: '))\n",
    "\n",
    "# calculate the semi-perimeter\n",
    "s = (a + b + c) / 2\n",
    "\n",
    "# calculate the area\n",
    "area = (s*(s-a)*(s-b)*(s-c)) ** 0.5\n",
    "print('The area of the triangle is %0.2f' %area)"
   ]
  },
  {
   "cell_type": "code",
   "execution_count": 10,
   "id": "41fe291e",
   "metadata": {},
   "outputs": [
    {
     "name": "stdout",
     "output_type": "stream",
     "text": [
      "Enter side of square2\n",
      "Area of square= 4.00\n"
     ]
    }
   ],
   "source": [
    "# Python Program to find the area of Sqaure\n",
    "\n",
    "s=float(input(\"Enter side of square\"))\n",
    "area=s*s\n",
    "print(\"Area of square=\",'%.2f'%area)"
   ]
  },
  {
   "cell_type": "code",
   "execution_count": 11,
   "id": "e8daabd2",
   "metadata": {},
   "outputs": [
    {
     "name": "stdout",
     "output_type": "stream",
     "text": [
      "Please Enter the Width of a Rectangle: 5\n",
      "Please Enter the Height of a Rectangle: 9\n",
      "\n",
      " Area of a Rectangle is: 45.00\n"
     ]
    }
   ],
   "source": [
    "# Python Program to find the area of Rectangle\n",
    " \n",
    "w = float(input('Please Enter the Width of a Rectangle: '))\n",
    "h = float(input('Please Enter the Height of a Rectangle: '))\n",
    " \n",
    "# calculate the area\n",
    "Area = w * h\n",
    " \n",
    "print(\"\\n Area of a Rectangle is: %.2f\" %Area)"
   ]
  },
  {
   "cell_type": "code",
   "execution_count": 12,
   "id": "6d5e1382",
   "metadata": {},
   "outputs": [
    {
     "name": "stdout",
     "output_type": "stream",
     "text": [
      " Please Enter the radius of a circle: 6\n",
      " Area Of a Circle = 113.04\n",
      " Circumference Of a Circle = 37.68\n"
     ]
    }
   ],
   "source": [
    "# Python Program to find the area of Circle\n",
    "\n",
    "PI = 3.14\n",
    "radius = float(input(' Please Enter the radius of a circle: '))\n",
    "area = PI * radius * radius\n",
    "circumference = 2 * PI * radius\n",
    "\n",
    "print(\" Area Of a Circle = %.2f\" %area)\n",
    "print(\" Circumference Of a Circle = %.2f\" %circumference)"
   ]
  },
  {
   "cell_type": "markdown",
   "id": "66256a79",
   "metadata": {},
   "source": [
    "## 9. write a program to calculate the net salary of an employee whose basic salary is entered by the user , DA is 5% of basic salary , HRA is 7% of basic salary and PF is 3% of basic salary."
   ]
  },
  {
   "cell_type": "code",
   "execution_count": 13,
   "id": "6ef985ca",
   "metadata": {},
   "outputs": [
    {
     "name": "stdout",
     "output_type": "stream",
     "text": [
      "Enter name of employee:Shankar\n",
      "Enter Basic Salary :19000\n",
      " NAME OF EMPLOYEE :  Shankar\n",
      " NET SALARY PAY :  20900.0\n"
     ]
    }
   ],
   "source": [
    "name= str(input(\"Enter name of employee:\"))\n",
    "basic=float(input(\"Enter Basic Salary :\"))\n",
    "da=float(basic*0.03)\n",
    "hra=float(basic*0.07)\n",
    "pf=float((basic+da)*0.03)\n",
    "netpay=float(basic+da+hra)\n",
    "\n",
    "print(\" NAME OF EMPLOYEE : \",name)\n",
    "\n",
    "print(\" NET SALARY PAY : \",netpay)"
   ]
  },
  {
   "cell_type": "markdown",
   "id": "0f3c7846",
   "metadata": {},
   "source": [
    "## 10.write a program to calculate the power of a number"
   ]
  },
  {
   "cell_type": "code",
   "execution_count": 14,
   "id": "d7d29d73",
   "metadata": {},
   "outputs": [
    {
     "name": "stdout",
     "output_type": "stream",
     "text": [
      "Enter the base value :5\n",
      "Enter the exponent value :3\n",
      "power = 125\n"
     ]
    }
   ],
   "source": [
    "base = int(input(\"Enter the base value :\"))\n",
    "exponent = int(input(\"Enter the exponent value :\"))\n",
    "\n",
    "result = 1\n",
    "\n",
    "for exponent in range(exponent, 0, -1):\n",
    "    result *= base\n",
    "\n",
    "print(\"power = \" + str(result))"
   ]
  },
  {
   "cell_type": "markdown",
   "id": "9f2f8b81",
   "metadata": {},
   "source": [
    "## 11.write a program to get the python version you are using."
   ]
  },
  {
   "cell_type": "code",
   "execution_count": 15,
   "id": "37aeb668",
   "metadata": {},
   "outputs": [
    {
     "name": "stdout",
     "output_type": "stream",
     "text": [
      "3.9.12\n"
     ]
    }
   ],
   "source": [
    "import platform\n",
    "\n",
    "print(platform.python_version())"
   ]
  },
  {
   "cell_type": "code",
   "execution_count": 16,
   "id": "34305604",
   "metadata": {},
   "outputs": [
    {
     "name": "stdout",
     "output_type": "stream",
     "text": [
      "3.9.12 (main, Apr  4 2022, 05:22:27) [MSC v.1916 64 bit (AMD64)]\n"
     ]
    }
   ],
   "source": [
    "import sys\n",
    "print(sys.version)"
   ]
  },
  {
   "cell_type": "code",
   "execution_count": null,
   "id": "e0b422da",
   "metadata": {},
   "outputs": [],
   "source": []
  }
 ],
 "metadata": {
  "kernelspec": {
   "display_name": "Python 3 (ipykernel)",
   "language": "python",
   "name": "python3"
  },
  "language_info": {
   "codemirror_mode": {
    "name": "ipython",
    "version": 3
   },
   "file_extension": ".py",
   "mimetype": "text/x-python",
   "name": "python",
   "nbconvert_exporter": "python",
   "pygments_lexer": "ipython3",
   "version": "3.9.12"
  }
 },
 "nbformat": 4,
 "nbformat_minor": 5
}
