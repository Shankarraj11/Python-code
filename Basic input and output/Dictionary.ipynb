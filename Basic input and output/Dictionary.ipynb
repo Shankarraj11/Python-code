{
 "cells": [
  {
   "cell_type": "code",
   "execution_count": 2,
   "id": "043627d2",
   "metadata": {},
   "outputs": [],
   "source": [
    "vehicle={\"brend\":\"ford\",\"Model\":\"Mustag\",\"year\":1991}"
   ]
  },
  {
   "cell_type": "code",
   "execution_count": 9,
   "id": "053ae540",
   "metadata": {},
   "outputs": [
    {
     "name": "stdout",
     "output_type": "stream",
     "text": [
      "{'brend': 'ford', 'Model': 'Mustag', 'year': 1991}\n"
     ]
    }
   ],
   "source": [
    "print(vehicle)"
   ]
  },
  {
   "cell_type": "code",
   "execution_count": 16,
   "id": "64efe81f",
   "metadata": {},
   "outputs": [
    {
     "name": "stdout",
     "output_type": "stream",
     "text": [
      "Mustag\n"
     ]
    }
   ],
   "source": [
    "x=vehicle[\"Model\"]\n",
    "print(x)"
   ]
  },
  {
   "cell_type": "code",
   "execution_count": 17,
   "id": "58a94d53",
   "metadata": {},
   "outputs": [
    {
     "name": "stdout",
     "output_type": "stream",
     "text": [
      "Mustag\n"
     ]
    }
   ],
   "source": [
    "x=vehicle.get(\"Model\")\n",
    "print(x)"
   ]
  },
  {
   "cell_type": "code",
   "execution_count": 18,
   "id": "58aac910",
   "metadata": {},
   "outputs": [
    {
     "name": "stdout",
     "output_type": "stream",
     "text": [
      "{'brend': 'ford', 'Model': 'Mustag', 'year': 2018}\n"
     ]
    }
   ],
   "source": [
    "vehicle[\"year\"]=2018\n",
    "print(vehicle)"
   ]
  },
  {
   "cell_type": "code",
   "execution_count": 21,
   "id": "0c576092",
   "metadata": {},
   "outputs": [
    {
     "name": "stdout",
     "output_type": "stream",
     "text": [
      "{'brend': 'ford', 'Model': 'Mustag'}\n"
     ]
    }
   ],
   "source": [
    "vehicle={\"brend\":\"ford\",\"Model\":\"Mustag\",\"year\":1991}\n",
    "vehicle.popitem()\n",
    "print(vehicle)"
   ]
  },
  {
   "cell_type": "code",
   "execution_count": 23,
   "id": "d289a948",
   "metadata": {},
   "outputs": [
    {
     "name": "stdout",
     "output_type": "stream",
     "text": [
      "{'brend': 'ford', 'year': 1991}\n"
     ]
    }
   ],
   "source": [
    "vehicle={\"brend\":\"ford\",\"Model\":\"Mustag\",\"year\":1991}\n",
    "vehicle.pop(\"Model\")\n",
    "print(vehicle)"
   ]
  },
  {
   "cell_type": "markdown",
   "id": "a6470ce3",
   "metadata": {},
   "source": [
    "## (key:Values)"
   ]
  },
  {
   "cell_type": "markdown",
   "id": "5f50e2d8",
   "metadata": {},
   "source": [
    "\n",
    "It is data type which store value in the form of key value pairs.\n",
    "\n",
    "key must be unique but value can be duplicate\n",
    "\n",
    "key is immutable while values are mutable\n",
    "\n",
    "Dictionary is mutable\n",
    "\n",
    "Heterogenous objects are allowed for both key and value\n",
    "\n",
    "Declared by {'key':'value'}\n",
    "\n",
    "As of Python version 3.7, dictionaries are ordered. In Python 3.6 and earlier, dictionaries are unordered."
   ]
  },
  {
   "cell_type": "code",
   "execution_count": 1,
   "id": "30c84f04",
   "metadata": {},
   "outputs": [],
   "source": [
    "d={\"one\":10,\"two\":20,\"three\":30}\n"
   ]
  },
  {
   "cell_type": "code",
   "execution_count": null,
   "id": "2425f419",
   "metadata": {},
   "outputs": [],
   "source": []
  },
  {
   "cell_type": "code",
   "execution_count": 2,
   "id": "3b8fbe7d",
   "metadata": {},
   "outputs": [
    {
     "data": {
      "text/plain": [
       "dict"
      ]
     },
     "execution_count": 2,
     "metadata": {},
     "output_type": "execute_result"
    }
   ],
   "source": [
    "type(d)"
   ]
  },
  {
   "cell_type": "code",
   "execution_count": 3,
   "id": "7ed21c1d",
   "metadata": {},
   "outputs": [
    {
     "data": {
      "text/plain": [
       "1631188798272"
      ]
     },
     "execution_count": 3,
     "metadata": {},
     "output_type": "execute_result"
    }
   ],
   "source": [
    "id(d)"
   ]
  },
  {
   "cell_type": "code",
   "execution_count": 4,
   "id": "dcc48e12",
   "metadata": {},
   "outputs": [
    {
     "data": {
      "text/plain": [
       "{'one': 10, 'two': 20, 'three': 30}"
      ]
     },
     "execution_count": 4,
     "metadata": {},
     "output_type": "execute_result"
    }
   ],
   "source": [
    "d"
   ]
  },
  {
   "cell_type": "code",
   "execution_count": 5,
   "id": "f86243d2",
   "metadata": {},
   "outputs": [
    {
     "data": {
      "text/plain": [
       "3"
      ]
     },
     "execution_count": 5,
     "metadata": {},
     "output_type": "execute_result"
    }
   ],
   "source": [
    "len(d)"
   ]
  },
  {
   "cell_type": "markdown",
   "id": "23cc767a",
   "metadata": {},
   "source": [
    "## Create dictionary"
   ]
  },
  {
   "cell_type": "markdown",
   "id": "300b344b",
   "metadata": {},
   "source": [
    "## Empty Dictionary"
   ]
  },
  {
   "cell_type": "code",
   "execution_count": 7,
   "id": "c7585bce",
   "metadata": {},
   "outputs": [],
   "source": [
    "d1={}"
   ]
  },
  {
   "cell_type": "code",
   "execution_count": 8,
   "id": "96750e87",
   "metadata": {},
   "outputs": [
    {
     "data": {
      "text/plain": [
       "{}"
      ]
     },
     "execution_count": 8,
     "metadata": {},
     "output_type": "execute_result"
    }
   ],
   "source": [
    "d1"
   ]
  },
  {
   "cell_type": "code",
   "execution_count": 9,
   "id": "ed1bc310",
   "metadata": {},
   "outputs": [
    {
     "data": {
      "text/plain": [
       "dict"
      ]
     },
     "execution_count": 9,
     "metadata": {},
     "output_type": "execute_result"
    }
   ],
   "source": [
    "type(d1)"
   ]
  },
  {
   "cell_type": "code",
   "execution_count": 10,
   "id": "f57a3884",
   "metadata": {},
   "outputs": [],
   "source": [
    "d2=dict()"
   ]
  },
  {
   "cell_type": "code",
   "execution_count": 11,
   "id": "8b6ce7fd",
   "metadata": {},
   "outputs": [
    {
     "data": {
      "text/plain": [
       "{}"
      ]
     },
     "execution_count": 11,
     "metadata": {},
     "output_type": "execute_result"
    }
   ],
   "source": [
    "d2"
   ]
  },
  {
   "cell_type": "code",
   "execution_count": 12,
   "id": "7dfe9323",
   "metadata": {},
   "outputs": [
    {
     "data": {
      "text/plain": [
       "dict"
      ]
     },
     "execution_count": 12,
     "metadata": {},
     "output_type": "execute_result"
    }
   ],
   "source": [
    "type(d2)"
   ]
  },
  {
   "cell_type": "code",
   "execution_count": 13,
   "id": "65cbb762",
   "metadata": {},
   "outputs": [
    {
     "data": {
      "text/plain": [
       "dict_keys(['one', 'two', 'three'])"
      ]
     },
     "execution_count": 13,
     "metadata": {},
     "output_type": "execute_result"
    }
   ],
   "source": [
    "d.keys()"
   ]
  },
  {
   "cell_type": "code",
   "execution_count": 14,
   "id": "b312b18f",
   "metadata": {},
   "outputs": [
    {
     "data": {
      "text/plain": [
       "dict_values([10, 20, 30])"
      ]
     },
     "execution_count": 14,
     "metadata": {},
     "output_type": "execute_result"
    }
   ],
   "source": [
    "d.values()"
   ]
  },
  {
   "cell_type": "code",
   "execution_count": 17,
   "id": "c8a6c0db",
   "metadata": {},
   "outputs": [
    {
     "data": {
      "text/plain": [
       "dict_items([('one', 10), ('two', 20), ('three', 30)])"
      ]
     },
     "execution_count": 17,
     "metadata": {},
     "output_type": "execute_result"
    }
   ],
   "source": [
    "d.items()"
   ]
  },
  {
   "cell_type": "code",
   "execution_count": 18,
   "id": "056fda3f",
   "metadata": {},
   "outputs": [
    {
     "data": {
      "text/plain": [
       "{'name': ['shankar', 'raj', 'ravi'], 'class': [5, 7, 8], 'marks': [56, 78, 90]}"
      ]
     },
     "execution_count": 18,
     "metadata": {},
     "output_type": "execute_result"
    }
   ],
   "source": [
    "d3={\"name\":[\"shankar\",\"raj\",\"ravi\"],\"class\":[5,7,8],\"marks\":[56,78,90]}\n",
    "d3"
   ]
  },
  {
   "cell_type": "code",
   "execution_count": 19,
   "id": "1e73e8ca",
   "metadata": {},
   "outputs": [
    {
     "data": {
      "text/plain": [
       "dict_values([['shankar', 'raj', 'ravi'], [5, 7, 8], [56, 78, 90]])"
      ]
     },
     "execution_count": 19,
     "metadata": {},
     "output_type": "execute_result"
    }
   ],
   "source": [
    "d3.values()"
   ]
  },
  {
   "cell_type": "code",
   "execution_count": 20,
   "id": "f5bc9884",
   "metadata": {},
   "outputs": [
    {
     "data": {
      "text/plain": [
       "56"
      ]
     },
     "execution_count": 20,
     "metadata": {},
     "output_type": "execute_result"
    }
   ],
   "source": [
    "d3[\"marks\"][0]"
   ]
  },
  {
   "cell_type": "code",
   "execution_count": 21,
   "id": "e979c748",
   "metadata": {},
   "outputs": [
    {
     "data": {
      "text/plain": [
       "78"
      ]
     },
     "execution_count": 21,
     "metadata": {},
     "output_type": "execute_result"
    }
   ],
   "source": [
    "d3[\"marks\"][1]"
   ]
  },
  {
   "cell_type": "code",
   "execution_count": 23,
   "id": "4cb9a42b",
   "metadata": {},
   "outputs": [
    {
     "data": {
      "text/plain": [
       "['shankar', 'raj', 'ravi']"
      ]
     },
     "execution_count": 23,
     "metadata": {},
     "output_type": "execute_result"
    }
   ],
   "source": [
    "d3[\"name\"]"
   ]
  },
  {
   "cell_type": "code",
   "execution_count": 24,
   "id": "da1cd91c",
   "metadata": {},
   "outputs": [
    {
     "data": {
      "text/plain": [
       "'ravi'"
      ]
     },
     "execution_count": 24,
     "metadata": {},
     "output_type": "execute_result"
    }
   ],
   "source": [
    "d3[\"name\"][2]"
   ]
  },
  {
   "cell_type": "code",
   "execution_count": 25,
   "id": "2e0b75ae",
   "metadata": {},
   "outputs": [
    {
     "ename": "KeyError",
     "evalue": "2",
     "output_type": "error",
     "traceback": [
      "\u001b[1;31m---------------------------------------------------------------------------\u001b[0m",
      "\u001b[1;31mKeyError\u001b[0m                                  Traceback (most recent call last)",
      "Input \u001b[1;32mIn [25]\u001b[0m, in \u001b[0;36m<cell line: 1>\u001b[1;34m()\u001b[0m\n\u001b[1;32m----> 1\u001b[0m \u001b[43md3\u001b[49m\u001b[43m[\u001b[49m\u001b[38;5;241;43m2\u001b[39;49m\u001b[43m]\u001b[49m[\u001b[38;5;241m2\u001b[39m]\n",
      "\u001b[1;31mKeyError\u001b[0m: 2"
     ]
    }
   ],
   "source": [
    "d3[2][2]"
   ]
  },
  {
   "cell_type": "code",
   "execution_count": 27,
   "id": "631f15ed",
   "metadata": {},
   "outputs": [
    {
     "data": {
      "text/plain": [
       "['shankar', 'raj', 'ravi']"
      ]
     },
     "execution_count": 27,
     "metadata": {},
     "output_type": "execute_result"
    }
   ],
   "source": [
    "x=d3.get(\"name\")\n",
    "x"
   ]
  },
  {
   "cell_type": "code",
   "execution_count": 28,
   "id": "372d7b7d",
   "metadata": {},
   "outputs": [],
   "source": [
    "## Create a dictionary from a sequence of mixed keys"
   ]
  },
  {
   "cell_type": "code",
   "execution_count": 30,
   "id": "05cf0f6c",
   "metadata": {},
   "outputs": [
    {
     "data": {
      "text/plain": [
       "{'a': None, 'd': None, 'b': None, 'c': None}"
      ]
     },
     "execution_count": 30,
     "metadata": {},
     "output_type": "execute_result"
    }
   ],
   "source": [
    "k={\"a\",\"b\",\"c\",\"d\"}\n",
    "d4=dict.fromkeys(k)\n",
    "d4"
   ]
  },
  {
   "cell_type": "code",
   "execution_count": 31,
   "id": "de52c428",
   "metadata": {},
   "outputs": [
    {
     "data": {
      "text/plain": [
       "set"
      ]
     },
     "execution_count": 31,
     "metadata": {},
     "output_type": "execute_result"
    }
   ],
   "source": [
    "type(k)"
   ]
  },
  {
   "cell_type": "code",
   "execution_count": 33,
   "id": "1167d21f",
   "metadata": {},
   "outputs": [
    {
     "data": {
      "text/plain": [
       "{'a': 89, 'd': 89, 'b': 89, 'c': 89}"
      ]
     },
     "execution_count": 33,
     "metadata": {},
     "output_type": "execute_result"
    }
   ],
   "source": [
    "k={\"a\",\"b\",\"c\",\"d\"}\n",
    "v=89\n",
    "d4=dict.fromkeys(k,v)\n",
    "d4"
   ]
  },
  {
   "cell_type": "code",
   "execution_count": 34,
   "id": "879a6d79",
   "metadata": {},
   "outputs": [
    {
     "data": {
      "text/plain": [
       "{'a': [10, 20, 30, 40],\n",
       " 'l': [10, 20, 30, 40],\n",
       " 'd': [10, 20, 30, 40],\n",
       " 'n': [10, 20, 30, 40]}"
      ]
     },
     "execution_count": 34,
     "metadata": {},
     "output_type": "execute_result"
    }
   ],
   "source": [
    "k={\"d\",\"l\",\"n\",\"a\"}\n",
    "v=[10,20,30,40]\n",
    "d4=dict.fromkeys(k,v)\n",
    "d4"
   ]
  },
  {
   "cell_type": "code",
   "execution_count": 35,
   "id": "bec9e572",
   "metadata": {},
   "outputs": [],
   "source": [
    "v.append(60)"
   ]
  },
  {
   "cell_type": "code",
   "execution_count": 36,
   "id": "6c3427a1",
   "metadata": {},
   "outputs": [
    {
     "data": {
      "text/plain": [
       "{'a': [10, 20, 30, 40, 67],\n",
       " 'l': [10, 20, 30, 40, 67],\n",
       " 'd': [10, 20, 30, 40, 67],\n",
       " 'n': [10, 20, 30, 40, 67]}"
      ]
     },
     "execution_count": 36,
     "metadata": {},
     "output_type": "execute_result"
    }
   ],
   "source": [
    "d4"
   ]
  },
  {
   "cell_type": "code",
   "execution_count": 37,
   "id": "bec9202c",
   "metadata": {},
   "outputs": [
    {
     "data": {
      "text/plain": [
       "{56: ['divya', 'joy', 'shankar', 'Kiran'],\n",
       " 89: ['divya', 'joy', 'shankar', 'Kiran'],\n",
       " 99: ['divya', 'joy', 'shankar', 'Kiran'],\n",
       " 77: ['divya', 'joy', 'shankar', 'Kiran']}"
      ]
     },
     "execution_count": 37,
     "metadata": {},
     "output_type": "execute_result"
    }
   ],
   "source": [
    "k={56,77,89,99}\n",
    "v=[\"divya\",\"joy\",\"shankar\",\"Kiran\"]\n",
    "d5=dict.fromkeys(k,v)\n",
    "d5"
   ]
  },
  {
   "cell_type": "markdown",
   "id": "9905930b",
   "metadata": {},
   "source": [
    "## Accessing Items"
   ]
  },
  {
   "cell_type": "code",
   "execution_count": 40,
   "id": "4374b9a7",
   "metadata": {},
   "outputs": [
    {
     "data": {
      "text/plain": [
       "{'one': 10, 'two': 20, 'three': 30}"
      ]
     },
     "execution_count": 40,
     "metadata": {},
     "output_type": "execute_result"
    }
   ],
   "source": [
    "d"
   ]
  },
  {
   "cell_type": "code",
   "execution_count": 41,
   "id": "2f806e06",
   "metadata": {},
   "outputs": [
    {
     "data": {
      "text/plain": [
       "20"
      ]
     },
     "execution_count": 41,
     "metadata": {},
     "output_type": "execute_result"
    }
   ],
   "source": [
    "d[\"two\"]"
   ]
  },
  {
   "cell_type": "code",
   "execution_count": 42,
   "id": "b6810a17",
   "metadata": {},
   "outputs": [
    {
     "data": {
      "text/plain": [
       "20"
      ]
     },
     "execution_count": 42,
     "metadata": {},
     "output_type": "execute_result"
    }
   ],
   "source": [
    "d.get(\"two\")"
   ]
  },
  {
   "cell_type": "markdown",
   "id": "d6362751",
   "metadata": {},
   "source": [
    "Homework \n",
    "\n",
    "1.sort a dictionary by value\n",
    "\n",
    "2.add a key to a dictionary"
   ]
  },
  {
   "cell_type": "markdown",
   "id": "08cc88b4",
   "metadata": {},
   "source": [
    "## Change item of dictionary"
   ]
  },
  {
   "cell_type": "code",
   "execution_count": 43,
   "id": "cbd44df7",
   "metadata": {},
   "outputs": [
    {
     "data": {
      "text/plain": [
       "{'one': 10, 'two': 20, 'three': 30}"
      ]
     },
     "execution_count": 43,
     "metadata": {},
     "output_type": "execute_result"
    }
   ],
   "source": [
    "d"
   ]
  },
  {
   "cell_type": "code",
   "execution_count": 44,
   "id": "5f2c5315",
   "metadata": {},
   "outputs": [
    {
     "data": {
      "text/plain": [
       "{'one': 2017, 'two': 20, 'three': 30}"
      ]
     },
     "execution_count": 44,
     "metadata": {},
     "output_type": "execute_result"
    }
   ],
   "source": [
    "d[\"one\"]=2017\n",
    "d"
   ]
  },
  {
   "cell_type": "code",
   "execution_count": 47,
   "id": "f0c7d872",
   "metadata": {},
   "outputs": [
    {
     "data": {
      "text/plain": [
       "{'one': 2017, 'two': 80, 'three': 30}"
      ]
     },
     "execution_count": 47,
     "metadata": {},
     "output_type": "execute_result"
    }
   ],
   "source": [
    "du= {\"two\":80}\n",
    "d.update(du)\n",
    "d"
   ]
  },
  {
   "cell_type": "code",
   "execution_count": 48,
   "id": "68a4b1e4",
   "metadata": {},
   "outputs": [
    {
     "data": {
      "text/plain": [
       "{'one': 2017, 'two': 80, 'three': 30, 'four': 60}"
      ]
     },
     "execution_count": 48,
     "metadata": {},
     "output_type": "execute_result"
    }
   ],
   "source": [
    "du= {\"four\":60}\n",
    "d.update(du)\n",
    "d"
   ]
  },
  {
   "cell_type": "markdown",
   "id": "06048501",
   "metadata": {},
   "source": [
    "## Add a key value"
   ]
  },
  {
   "cell_type": "code",
   "execution_count": 50,
   "id": "64619698",
   "metadata": {},
   "outputs": [
    {
     "data": {
      "text/plain": [
       "{'one': 2017, 'two': 80, 'three': 30, 'four': 60}"
      ]
     },
     "execution_count": 50,
     "metadata": {},
     "output_type": "execute_result"
    }
   ],
   "source": [
    "d"
   ]
  },
  {
   "cell_type": "code",
   "execution_count": 52,
   "id": "f0148166",
   "metadata": {},
   "outputs": [
    {
     "data": {
      "text/plain": [
       "{'one': 2017, 'two': 80, 'three': 30, 'four': 60, 'six': 89}"
      ]
     },
     "execution_count": 52,
     "metadata": {},
     "output_type": "execute_result"
    }
   ],
   "source": [
    "d[\"six\"]=89\n",
    "d"
   ]
  },
  {
   "cell_type": "markdown",
   "id": "6e823531",
   "metadata": {},
   "source": [
    "## Remove item"
   ]
  },
  {
   "cell_type": "markdown",
   "id": "e467fb05",
   "metadata": {},
   "source": [
    "## POP "
   ]
  },
  {
   "cell_type": "code",
   "execution_count": 55,
   "id": "0f696239",
   "metadata": {},
   "outputs": [
    {
     "data": {
      "text/plain": [
       "30"
      ]
     },
     "execution_count": 55,
     "metadata": {},
     "output_type": "execute_result"
    }
   ],
   "source": [
    "d.pop(\"three\")"
   ]
  },
  {
   "cell_type": "code",
   "execution_count": 56,
   "id": "ff957fac",
   "metadata": {},
   "outputs": [
    {
     "data": {
      "text/plain": [
       "{'one': 2017, 'two': 80, 'four': 60, 'six': 89}"
      ]
     },
     "execution_count": 56,
     "metadata": {},
     "output_type": "execute_result"
    }
   ],
   "source": [
    "d\n"
   ]
  },
  {
   "cell_type": "markdown",
   "id": "8bc71bb0",
   "metadata": {},
   "source": [
    "## Popitem()"
   ]
  },
  {
   "cell_type": "code",
   "execution_count": 58,
   "id": "216fe960",
   "metadata": {},
   "outputs": [
    {
     "data": {
      "text/plain": [
       "('six', 89)"
      ]
     },
     "execution_count": 58,
     "metadata": {},
     "output_type": "execute_result"
    }
   ],
   "source": [
    "d.popitem()"
   ]
  },
  {
   "cell_type": "code",
   "execution_count": 59,
   "id": "7f5d1e93",
   "metadata": {},
   "outputs": [
    {
     "data": {
      "text/plain": [
       "{'one': 2017, 'two': 80, 'four': 60}"
      ]
     },
     "execution_count": 59,
     "metadata": {},
     "output_type": "execute_result"
    }
   ],
   "source": [
    "d"
   ]
  },
  {
   "cell_type": "markdown",
   "id": "25523679",
   "metadata": {},
   "source": [
    "## Del"
   ]
  },
  {
   "cell_type": "code",
   "execution_count": 63,
   "id": "5d00f809",
   "metadata": {},
   "outputs": [],
   "source": [
    "del[d[\"one\"]]\n"
   ]
  },
  {
   "cell_type": "code",
   "execution_count": 64,
   "id": "24cf2561",
   "metadata": {},
   "outputs": [
    {
     "data": {
      "text/plain": [
       "{'two': 80, 'four': 60}"
      ]
     },
     "execution_count": 64,
     "metadata": {},
     "output_type": "execute_result"
    }
   ],
   "source": [
    "d"
   ]
  },
  {
   "cell_type": "markdown",
   "id": "b56bb502",
   "metadata": {},
   "source": [
    "## Clear"
   ]
  },
  {
   "cell_type": "code",
   "execution_count": 67,
   "id": "02d8af40",
   "metadata": {},
   "outputs": [],
   "source": [
    "d.clear()"
   ]
  },
  {
   "cell_type": "code",
   "execution_count": 68,
   "id": "714afc19",
   "metadata": {},
   "outputs": [
    {
     "data": {
      "text/plain": [
       "{}"
      ]
     },
     "execution_count": 68,
     "metadata": {},
     "output_type": "execute_result"
    }
   ],
   "source": [
    "d"
   ]
  },
  {
   "cell_type": "markdown",
   "id": "b0bfa9f9",
   "metadata": {},
   "source": [
    "##  del"
   ]
  },
  {
   "cell_type": "code",
   "execution_count": 70,
   "id": "3205da76",
   "metadata": {},
   "outputs": [],
   "source": [
    "del d"
   ]
  },
  {
   "cell_type": "code",
   "execution_count": 71,
   "id": "6ad07314",
   "metadata": {},
   "outputs": [
    {
     "ename": "NameError",
     "evalue": "name 'd' is not defined",
     "output_type": "error",
     "traceback": [
      "\u001b[1;31m---------------------------------------------------------------------------\u001b[0m",
      "\u001b[1;31mNameError\u001b[0m                                 Traceback (most recent call last)",
      "Input \u001b[1;32mIn [71]\u001b[0m, in \u001b[0;36m<cell line: 1>\u001b[1;34m()\u001b[0m\n\u001b[1;32m----> 1\u001b[0m \u001b[43md\u001b[49m\n",
      "\u001b[1;31mNameError\u001b[0m: name 'd' is not defined"
     ]
    }
   ],
   "source": [
    "d"
   ]
  },
  {
   "cell_type": "markdown",
   "id": "fe49912e",
   "metadata": {},
   "source": [
    "## Copy dictionary"
   ]
  },
  {
   "cell_type": "code",
   "execution_count": 72,
   "id": "abe4c266",
   "metadata": {},
   "outputs": [],
   "source": [
    "d={1:\"divya\",2:\"shiv\",3:\"radha\"}\n"
   ]
  },
  {
   "cell_type": "code",
   "execution_count": 73,
   "id": "8b02cb18",
   "metadata": {},
   "outputs": [
    {
     "data": {
      "text/plain": [
       "1631224404416"
      ]
     },
     "execution_count": 73,
     "metadata": {},
     "output_type": "execute_result"
    }
   ],
   "source": [
    "id(d)"
   ]
  },
  {
   "cell_type": "code",
   "execution_count": 74,
   "id": "cdbb261a",
   "metadata": {},
   "outputs": [],
   "source": [
    "d1=d"
   ]
  },
  {
   "cell_type": "code",
   "execution_count": 76,
   "id": "bda3c3bb",
   "metadata": {},
   "outputs": [
    {
     "data": {
      "text/plain": [
       "{1: 'divya', 2: 'shiv', 3: 'radha'}"
      ]
     },
     "execution_count": 76,
     "metadata": {},
     "output_type": "execute_result"
    }
   ],
   "source": [
    "d1"
   ]
  },
  {
   "cell_type": "code",
   "execution_count": 77,
   "id": "387510d0",
   "metadata": {},
   "outputs": [
    {
     "data": {
      "text/plain": [
       "1631224404416"
      ]
     },
     "execution_count": 77,
     "metadata": {},
     "output_type": "execute_result"
    }
   ],
   "source": [
    "id(d1)"
   ]
  },
  {
   "cell_type": "code",
   "execution_count": 78,
   "id": "084ee184",
   "metadata": {},
   "outputs": [],
   "source": [
    "d2=d.copy()"
   ]
  },
  {
   "cell_type": "code",
   "execution_count": 79,
   "id": "3b13a0ad",
   "metadata": {},
   "outputs": [
    {
     "data": {
      "text/plain": [
       "{1: 'divya', 2: 'shiv', 3: 'radha'}"
      ]
     },
     "execution_count": 79,
     "metadata": {},
     "output_type": "execute_result"
    }
   ],
   "source": [
    "d2\n"
   ]
  },
  {
   "cell_type": "code",
   "execution_count": 83,
   "id": "9d86483a",
   "metadata": {},
   "outputs": [
    {
     "data": {
      "text/plain": [
       "1631223481984"
      ]
     },
     "execution_count": 83,
     "metadata": {},
     "output_type": "execute_result"
    }
   ],
   "source": [
    "id(d2)"
   ]
  },
  {
   "cell_type": "code",
   "execution_count": 84,
   "id": "d7d18a23",
   "metadata": {},
   "outputs": [],
   "source": [
    "d3=dict(d)"
   ]
  },
  {
   "cell_type": "code",
   "execution_count": 85,
   "id": "1528f9d1",
   "metadata": {},
   "outputs": [
    {
     "data": {
      "text/plain": [
       "{1: 'divya', 2: 'shiv', 3: 'radha'}"
      ]
     },
     "execution_count": 85,
     "metadata": {},
     "output_type": "execute_result"
    }
   ],
   "source": [
    "d3"
   ]
  },
  {
   "cell_type": "code",
   "execution_count": 86,
   "id": "3a2f6f43",
   "metadata": {},
   "outputs": [
    {
     "data": {
      "text/plain": [
       "1631188731200"
      ]
     },
     "execution_count": 86,
     "metadata": {},
     "output_type": "execute_result"
    }
   ],
   "source": [
    "id(d3)"
   ]
  },
  {
   "cell_type": "markdown",
   "id": "4b458336",
   "metadata": {},
   "source": [
    "## dictionary Membership"
   ]
  },
  {
   "cell_type": "markdown",
   "id": "7d168d63",
   "metadata": {},
   "source": [
    "\n",
    "double each value\n",
    "divide all values in a dictionary by 10\n",
    "lower to upper case"
   ]
  },
  {
   "cell_type": "code",
   "execution_count": 88,
   "id": "ea7faf52",
   "metadata": {},
   "outputs": [
    {
     "data": {
      "text/plain": [
       "{0: 0, 1: 2, 2: 4, 3: 6, 4: 8, 5: 10, 6: 12, 7: 14, 8: 16, 9: 18}"
      ]
     },
     "execution_count": 88,
     "metadata": {},
     "output_type": "execute_result"
    }
   ],
   "source": [
    "d={i:i*2 for i in range(10) }\n",
    "d"
   ]
  },
  {
   "cell_type": "code",
   "execution_count": 89,
   "id": "1f0a5e16",
   "metadata": {},
   "outputs": [
    {
     "data": {
      "text/plain": [
       "{0: 0, 1: 1, 2: 4, 3: 9, 4: 16, 5: 25, 6: 36, 7: 49, 8: 64, 9: 81}"
      ]
     },
     "execution_count": 89,
     "metadata": {},
     "output_type": "execute_result"
    }
   ],
   "source": [
    "d={i:i**2 for i in range(10) }\n",
    "d"
   ]
  },
  {
   "cell_type": "markdown",
   "id": "ed934ddf",
   "metadata": {},
   "source": [
    "## word frequency"
   ]
  },
  {
   "cell_type": "code",
   "execution_count": 102,
   "id": "c4974318",
   "metadata": {},
   "outputs": [],
   "source": [
    "m=\"one twp three  four five one two six seven one eight four five \""
   ]
  },
  {
   "cell_type": "code",
   "execution_count": 103,
   "id": "6d673e76",
   "metadata": {},
   "outputs": [
    {
     "data": {
      "text/plain": [
       "str"
      ]
     },
     "execution_count": 103,
     "metadata": {},
     "output_type": "execute_result"
    }
   ],
   "source": [
    "type(m)"
   ]
  },
  {
   "cell_type": "code",
   "execution_count": 104,
   "id": "90b07438",
   "metadata": {},
   "outputs": [
    {
     "data": {
      "text/plain": [
       "['one',\n",
       " 'twp',\n",
       " 'three',\n",
       " 'four',\n",
       " 'five',\n",
       " 'one',\n",
       " 'two',\n",
       " 'six',\n",
       " 'seven',\n",
       " 'one',\n",
       " 'eight',\n",
       " 'four',\n",
       " 'five']"
      ]
     },
     "execution_count": 104,
     "metadata": {},
     "output_type": "execute_result"
    }
   ],
   "source": [
    "m1=m.split()\n",
    "m1"
   ]
  },
  {
   "cell_type": "code",
   "execution_count": 105,
   "id": "83c68ed0",
   "metadata": {},
   "outputs": [
    {
     "data": {
      "text/plain": [
       "list"
      ]
     },
     "execution_count": 105,
     "metadata": {},
     "output_type": "execute_result"
    }
   ],
   "source": [
    "type(m1)"
   ]
  },
  {
   "cell_type": "code",
   "execution_count": 106,
   "id": "e1be07ee",
   "metadata": {},
   "outputs": [
    {
     "data": {
      "text/plain": [
       "['one',\n",
       " 'twp',\n",
       " 'three',\n",
       " 'four',\n",
       " 'five',\n",
       " 'one',\n",
       " 'two',\n",
       " 'six',\n",
       " 'seven',\n",
       " 'one',\n",
       " 'eight',\n",
       " 'four',\n",
       " 'five']"
      ]
     },
     "execution_count": 106,
     "metadata": {},
     "output_type": "execute_result"
    }
   ],
   "source": [
    "m2=list(m1)\n",
    "m2"
   ]
  },
  {
   "cell_type": "code",
   "execution_count": 107,
   "id": "eaff5127",
   "metadata": {},
   "outputs": [
    {
     "data": {
      "text/plain": [
       "list"
      ]
     },
     "execution_count": 107,
     "metadata": {},
     "output_type": "execute_result"
    }
   ],
   "source": [
    "type(m1)"
   ]
  },
  {
   "cell_type": "code",
   "execution_count": 108,
   "id": "fa567bb4",
   "metadata": {},
   "outputs": [
    {
     "data": {
      "text/plain": [
       "list"
      ]
     },
     "execution_count": 108,
     "metadata": {},
     "output_type": "execute_result"
    }
   ],
   "source": [
    "type(m2)"
   ]
  },
  {
   "cell_type": "code",
   "execution_count": 109,
   "id": "caf480e6",
   "metadata": {},
   "outputs": [
    {
     "data": {
      "text/plain": [
       "1631217626688"
      ]
     },
     "execution_count": 109,
     "metadata": {},
     "output_type": "execute_result"
    }
   ],
   "source": [
    "id(m1)"
   ]
  },
  {
   "cell_type": "code",
   "execution_count": 112,
   "id": "0851a16e",
   "metadata": {},
   "outputs": [
    {
     "data": {
      "text/plain": [
       "1631227032320"
      ]
     },
     "execution_count": 112,
     "metadata": {},
     "output_type": "execute_result"
    }
   ],
   "source": [
    "id(m2)"
   ]
  },
  {
   "cell_type": "code",
   "execution_count": 117,
   "id": "4b1a36f5",
   "metadata": {},
   "outputs": [
    {
     "name": "stdout",
     "output_type": "stream",
     "text": [
      "{'one': 3, 'twp': 1, 'three': 1, 'four': 2, 'five': 2, 'two': 1, 'six': 1, 'seven': 1, 'eight': 1}\n"
     ]
    }
   ],
   "source": [
    "## Calculate frequency of each word\n",
    "c=[0]*len(m2)\n",
    "my=dict()\n",
    "for i in range(len(m2)):\n",
    "    for j in range(len(m1)):\n",
    "        if m2[i]==m1[j]:\n",
    "            c[i]+=1\n",
    "    my[m2[i]]=c[i]\n",
    "print(my)"
   ]
  },
  {
   "cell_type": "code",
   "execution_count": 119,
   "id": "b83cc828",
   "metadata": {},
   "outputs": [
    {
     "data": {
      "text/plain": [
       "[0, 0, 0, 0, 0, 0, 0, 0, 0, 0, 0, 0, 0]"
      ]
     },
     "execution_count": 119,
     "metadata": {},
     "output_type": "execute_result"
    }
   ],
   "source": [
    "c=[0]*len(m2)\n",
    "c"
   ]
  },
  {
   "cell_type": "code",
   "execution_count": 120,
   "id": "8a464178",
   "metadata": {},
   "outputs": [
    {
     "data": {
      "text/plain": [
       "13"
      ]
     },
     "execution_count": 120,
     "metadata": {},
     "output_type": "execute_result"
    }
   ],
   "source": [
    "len(c)"
   ]
  },
  {
   "cell_type": "code",
   "execution_count": null,
   "id": "07cdc664",
   "metadata": {},
   "outputs": [],
   "source": []
  }
 ],
 "metadata": {
  "kernelspec": {
   "display_name": "Python 3 (ipykernel)",
   "language": "python",
   "name": "python3"
  },
  "language_info": {
   "codemirror_mode": {
    "name": "ipython",
    "version": 3
   },
   "file_extension": ".py",
   "mimetype": "text/x-python",
   "name": "python",
   "nbconvert_exporter": "python",
   "pygments_lexer": "ipython3",
   "version": "3.9.12"
  }
 },
 "nbformat": 4,
 "nbformat_minor": 5
}
